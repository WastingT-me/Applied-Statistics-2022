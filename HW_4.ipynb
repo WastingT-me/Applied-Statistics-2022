{
  "cells": [
    {
      "cell_type": "markdown",
      "metadata": {
        "id": "SWpzzBKX5lab"
      },
      "source": [
        "# Библиотеки"
      ]
    },
    {
      "cell_type": "code",
      "execution_count": 4,
      "metadata": {
        "id": "vVQmHCGb2SvF"
      },
      "outputs": [],
      "source": [
        "from zlib import crc32\n",
        "\n",
        "import numpy as np\n",
        "import matplotlib.pylab as plt\n",
        "%matplotlib inline\n",
        "import scipy.stats as st\n",
        "import seaborn as sns\n",
        "import pandas as pd\n",
        "from statsmodels.stats.multitest import multipletests"
      ]
    },
    {
      "cell_type": "markdown",
      "metadata": {
        "id": "W10bESh65lah"
      },
      "source": [
        "# Код генерации выборки"
      ]
    },
    {
      "cell_type": "code",
      "execution_count": 2,
      "metadata": {
        "id": "-dRusc3I5lai"
      },
      "outputs": [],
      "source": [
        "import re\n",
        "EMAIL_REGEX = re.compile(r\"[^@]+@phystech.edu\")\n",
        "\n",
        "def generate_dataset(code):\n",
        "    rs = np.random.RandomState(code)\n",
        "    size = rs.randint(low=5, high=10)\n",
        "    data = rs.randn(30, size)\n",
        "    for i in range(size):\n",
        "        data[:, i] += rs.uniform()*2-1.0\n",
        "    return data"
      ]
    },
    {
      "cell_type": "markdown",
      "metadata": {
        "id": "LXkXPYIz5laj"
      },
      "source": [
        "# Генерация выборки для вашей почты\n",
        "\n",
        "<span style=\"color:red\">\n",
        "    ВАЖНО!\n",
        "    Почта, которую укажете ниже и почта с которой Вы отправляете домашнее задание должна совпадать!\n",
        "    В момент проверки задания алгоритм генерирует выборку на основе почты из анкеты!\n",
        "</span>\n",
        "\n",
        "Внимательно проверьте почту для которой выполняется задание!"
      ]
    },
    {
      "cell_type": "code",
      "execution_count": 5,
      "metadata": {
        "id": "h8bMsPHy5laj",
        "colab": {
          "base_uri": "https://localhost:8080/"
        },
        "outputId": "bc1cc121-b140-471a-bea3-022c9d5c4222"
      },
      "outputs": [
        {
          "name": "stdout",
          "output_type": "stream",
          "text": [
            "Enter your mail: egorov.sa@phystech.edu\n"
          ]
        },
        {
          "output_type": "execute_result",
          "data": {
            "text/plain": [
              "{'mail': 'egorov.sa@phystech.edu',\n",
              " 'id': 1581189463,\n",
              " 'data': array([[-5.03173737e-01, -1.70177547e+00, -5.62814719e-02,\n",
              "          1.59944732e+00, -6.18339557e-01, -1.81812407e-01,\n",
              "          6.94521034e-01],\n",
              "        [ 9.68349829e-01, -8.74327842e-01, -9.22017996e-01,\n",
              "         -3.36217760e-01, -7.76650385e-01, -3.72310630e-01,\n",
              "          6.21454811e-01],\n",
              "        [ 8.60688130e-01, -3.37615342e-01,  6.06386046e-02,\n",
              "          5.91460828e-01,  6.42576899e-01, -1.15725645e+00,\n",
              "          1.86495744e+00],\n",
              "        [-1.49770363e+00, -2.05180546e+00,  1.02084486e+00,\n",
              "          2.90261952e+00, -1.05720519e-01,  9.03700144e-01,\n",
              "          3.29244275e-01],\n",
              "        [-1.71382735e+00, -2.28218218e+00, -7.95809957e-01,\n",
              "          2.80217011e+00, -1.25691390e+00,  5.41864331e-01,\n",
              "          4.73988401e-01],\n",
              "        [-4.90231756e-01, -2.53054958e-01,  1.09313159e+00,\n",
              "          4.21499328e-01, -6.33288331e-01, -3.12956193e-01,\n",
              "          8.33561535e-01],\n",
              "        [ 1.80007570e+00, -9.21461218e-01, -1.32404640e-01,\n",
              "          1.57289357e-01, -1.54599337e+00, -7.84458097e-01,\n",
              "          1.18890167e+00],\n",
              "        [-7.60861881e-01,  9.67879489e-02,  1.30363013e+00,\n",
              "          1.60645613e+00, -9.64981448e-01,  8.42951241e-01,\n",
              "          2.62464369e-01],\n",
              "        [-1.50809607e+00, -5.65344690e-01, -1.32576748e+00,\n",
              "          1.04003815e+00, -8.21181833e-01, -7.32564166e-01,\n",
              "          3.42373820e-01],\n",
              "        [-4.19139957e-01, -2.02950313e-01, -6.46302778e-01,\n",
              "          1.12018781e+00,  4.40888615e-01,  5.84285199e-01,\n",
              "          1.42646517e+00],\n",
              "        [-1.19336114e+00, -3.22213681e-01, -3.48694479e-01,\n",
              "          7.60667898e-01, -1.30767867e+00, -6.28264866e-01,\n",
              "          1.52171961e+00],\n",
              "        [-7.35848602e-02, -3.84432302e-01, -2.54809230e+00,\n",
              "          3.13424850e-01, -1.19350044e-01,  1.51752478e+00,\n",
              "         -2.30466939e-01],\n",
              "        [-2.12497169e+00, -1.71818487e+00, -4.65744293e-01,\n",
              "          3.06430091e-01, -1.31536448e+00,  1.10109548e-01,\n",
              "          8.97889698e-01],\n",
              "        [-5.54322793e-01,  3.69926196e-02, -9.67054013e-01,\n",
              "         -3.33553845e-01, -1.66421932e+00, -2.32282764e-01,\n",
              "          2.18200968e+00],\n",
              "        [ 1.15082328e-01, -1.59527122e+00,  4.33309245e-01,\n",
              "          5.60100692e-01,  6.66056928e-01, -1.65406646e-01,\n",
              "          6.06914565e-01],\n",
              "        [-7.66436681e-01, -5.36978742e-01, -2.41895983e-01,\n",
              "          2.64775112e-01, -9.22160269e-01,  1.06404365e+00,\n",
              "         -1.09533897e-01],\n",
              "        [-4.09597244e-01, -2.39082587e+00,  1.05459054e+00,\n",
              "         -1.29332240e+00, -1.12656527e+00,  3.26382591e-02,\n",
              "          8.57464564e-01],\n",
              "        [ 4.78983460e-01, -3.80713809e-01,  4.04304516e-01,\n",
              "         -1.41308731e+00,  2.58332507e-01, -8.52458127e-02,\n",
              "          1.13412055e+00],\n",
              "        [ 6.22670105e-01, -7.35979530e-01, -2.46500006e-01,\n",
              "         -1.24745040e+00, -1.50105623e+00,  8.02710350e-03,\n",
              "          7.58811040e-01],\n",
              "        [-7.13305974e-01, -1.27040526e-01,  7.20889769e-01,\n",
              "          1.32243521e+00, -1.71080713e+00,  2.34057290e-01,\n",
              "          7.79855840e-01],\n",
              "        [ 5.97344456e-01, -8.26698087e-01, -8.41417347e-01,\n",
              "         -1.33408372e+00,  7.99831524e-01, -4.45379589e-02,\n",
              "          1.94372572e+00],\n",
              "        [-1.33633386e+00,  6.65284150e-01, -7.31522209e-01,\n",
              "          1.23275307e+00, -2.86891358e-01, -5.26490548e-01,\n",
              "          1.14922105e+00],\n",
              "        [-5.30248236e-02, -4.80745301e-01,  5.02393062e-01,\n",
              "          1.86915810e+00, -1.73179747e+00, -3.63773001e-01,\n",
              "          3.04490113e-02],\n",
              "        [ 1.36094982e-01, -1.51349475e+00,  4.93900216e-01,\n",
              "          1.30194656e+00,  6.95398002e-03,  7.04683869e-01,\n",
              "          1.95968876e+00],\n",
              "        [ 1.35514285e+00, -1.28290297e+00,  8.89543457e-01,\n",
              "          7.85728098e-01, -3.72304547e-01, -2.58572919e-01,\n",
              "          5.47272914e-01],\n",
              "        [ 1.10896300e-01, -2.01009884e+00, -6.70623658e-01,\n",
              "          3.01944915e+00, -1.70009649e+00,  1.35972164e+00,\n",
              "          2.96007765e-01],\n",
              "        [ 8.87365967e-01, -1.23986036e+00,  2.23161780e+00,\n",
              "          1.13725547e+00,  4.92663550e-01, -4.53294838e-01,\n",
              "          9.50491014e-01],\n",
              "        [ 8.86047942e-01,  1.93428178e-01, -1.02049805e+00,\n",
              "          5.00470418e-01, -2.30737002e+00, -5.44142675e-02,\n",
              "          1.51890684e+00],\n",
              "        [ 5.14028117e-01, -1.82870575e+00,  2.22929224e-04,\n",
              "          9.27271837e-01, -1.55368548e-01,  1.03779780e+00,\n",
              "         -1.91478036e-01],\n",
              "        [-1.62960670e+00, -7.08079830e-01, -2.04469408e-01,\n",
              "         -3.26758396e-01, -4.92876322e-01, -3.40331566e+00,\n",
              "          1.38613765e+00]])}"
            ]
          },
          "metadata": {},
          "execution_count": 5
        }
      ],
      "source": [
        "task = dict()\n",
        "task['mail'] = input(prompt='Enter your mail: ')\n",
        "assert EMAIL_REGEX.match(task['mail']), 'Not a mail in the phystech.edu domain'\n",
        "task['id'] = crc32(task['mail'].encode('utf-8'))\n",
        "task['data'] = generate_dataset(task['id'])\n",
        "\n",
        "task"
      ]
    },
    {
      "cell_type": "markdown",
      "metadata": {
        "id": "WprDKyMv5lak"
      },
      "source": [
        "# Работа с выборкой"
      ]
    },
    {
      "cell_type": "code",
      "execution_count": 6,
      "metadata": {
        "id": "n87GvW7_2SvJ"
      },
      "outputs": [],
      "source": [
        "text_size = 15\n",
        "plt.rcParams['lines.linewidth'] = 3\n",
        "plt.rcParams['lines.markersize'] = 6\n",
        "plt.rcParams['xtick.labelsize'] = text_size\n",
        "plt.rcParams['ytick.labelsize'] = text_size\n",
        "plt.rcParams['legend.fontsize'] = text_size\n",
        "plt.rcParams['axes.titlesize'] = text_size\n",
        "plt.rcParams['axes.labelsize'] = text_size\n",
        "plt.rcParams['figure.figsize'] = (12.0, 8.0)\n",
        "plt.rcParams['font.size'] = text_size"
      ]
    },
    {
      "cell_type": "code",
      "execution_count": 15,
      "metadata": {
        "colab": {
          "base_uri": "https://localhost:8080/",
          "height": 206
        },
        "id": "r7OYvVDA2SvK",
        "outputId": "78eec5f5-d5ce-4f7c-d582-f4be72679ce5"
      },
      "outputs": [
        {
          "output_type": "execute_result",
          "data": {
            "text/plain": [
              "          0         1         2         3         4         5         6\n",
              "0 -0.503174 -1.701775 -0.056281  1.599447 -0.618340 -0.181812  0.694521\n",
              "1  0.968350 -0.874328 -0.922018 -0.336218 -0.776650 -0.372311  0.621455\n",
              "2  0.860688 -0.337615  0.060639  0.591461  0.642577 -1.157256  1.864957\n",
              "3 -1.497704 -2.051805  1.020845  2.902620 -0.105721  0.903700  0.329244\n",
              "4 -1.713827 -2.282182 -0.795810  2.802170 -1.256914  0.541864  0.473988"
            ],
            "text/html": [
              "\n",
              "  <div id=\"df-cf33e1ed-e98b-4ee4-bea7-1c835256de62\" class=\"colab-df-container\">\n",
              "    <div>\n",
              "<style scoped>\n",
              "    .dataframe tbody tr th:only-of-type {\n",
              "        vertical-align: middle;\n",
              "    }\n",
              "\n",
              "    .dataframe tbody tr th {\n",
              "        vertical-align: top;\n",
              "    }\n",
              "\n",
              "    .dataframe thead th {\n",
              "        text-align: right;\n",
              "    }\n",
              "</style>\n",
              "<table border=\"1\" class=\"dataframe\">\n",
              "  <thead>\n",
              "    <tr style=\"text-align: right;\">\n",
              "      <th></th>\n",
              "      <th>0</th>\n",
              "      <th>1</th>\n",
              "      <th>2</th>\n",
              "      <th>3</th>\n",
              "      <th>4</th>\n",
              "      <th>5</th>\n",
              "      <th>6</th>\n",
              "    </tr>\n",
              "  </thead>\n",
              "  <tbody>\n",
              "    <tr>\n",
              "      <th>0</th>\n",
              "      <td>-0.503174</td>\n",
              "      <td>-1.701775</td>\n",
              "      <td>-0.056281</td>\n",
              "      <td>1.599447</td>\n",
              "      <td>-0.618340</td>\n",
              "      <td>-0.181812</td>\n",
              "      <td>0.694521</td>\n",
              "    </tr>\n",
              "    <tr>\n",
              "      <th>1</th>\n",
              "      <td>0.968350</td>\n",
              "      <td>-0.874328</td>\n",
              "      <td>-0.922018</td>\n",
              "      <td>-0.336218</td>\n",
              "      <td>-0.776650</td>\n",
              "      <td>-0.372311</td>\n",
              "      <td>0.621455</td>\n",
              "    </tr>\n",
              "    <tr>\n",
              "      <th>2</th>\n",
              "      <td>0.860688</td>\n",
              "      <td>-0.337615</td>\n",
              "      <td>0.060639</td>\n",
              "      <td>0.591461</td>\n",
              "      <td>0.642577</td>\n",
              "      <td>-1.157256</td>\n",
              "      <td>1.864957</td>\n",
              "    </tr>\n",
              "    <tr>\n",
              "      <th>3</th>\n",
              "      <td>-1.497704</td>\n",
              "      <td>-2.051805</td>\n",
              "      <td>1.020845</td>\n",
              "      <td>2.902620</td>\n",
              "      <td>-0.105721</td>\n",
              "      <td>0.903700</td>\n",
              "      <td>0.329244</td>\n",
              "    </tr>\n",
              "    <tr>\n",
              "      <th>4</th>\n",
              "      <td>-1.713827</td>\n",
              "      <td>-2.282182</td>\n",
              "      <td>-0.795810</td>\n",
              "      <td>2.802170</td>\n",
              "      <td>-1.256914</td>\n",
              "      <td>0.541864</td>\n",
              "      <td>0.473988</td>\n",
              "    </tr>\n",
              "  </tbody>\n",
              "</table>\n",
              "</div>\n",
              "    <div class=\"colab-df-buttons\">\n",
              "\n",
              "  <div class=\"colab-df-container\">\n",
              "    <button class=\"colab-df-convert\" onclick=\"convertToInteractive('df-cf33e1ed-e98b-4ee4-bea7-1c835256de62')\"\n",
              "            title=\"Convert this dataframe to an interactive table.\"\n",
              "            style=\"display:none;\">\n",
              "\n",
              "  <svg xmlns=\"http://www.w3.org/2000/svg\" height=\"24px\" viewBox=\"0 -960 960 960\">\n",
              "    <path d=\"M120-120v-720h720v720H120Zm60-500h600v-160H180v160Zm220 220h160v-160H400v160Zm0 220h160v-160H400v160ZM180-400h160v-160H180v160Zm440 0h160v-160H620v160ZM180-180h160v-160H180v160Zm440 0h160v-160H620v160Z\"/>\n",
              "  </svg>\n",
              "    </button>\n",
              "\n",
              "  <style>\n",
              "    .colab-df-container {\n",
              "      display:flex;\n",
              "      gap: 12px;\n",
              "    }\n",
              "\n",
              "    .colab-df-convert {\n",
              "      background-color: #E8F0FE;\n",
              "      border: none;\n",
              "      border-radius: 50%;\n",
              "      cursor: pointer;\n",
              "      display: none;\n",
              "      fill: #1967D2;\n",
              "      height: 32px;\n",
              "      padding: 0 0 0 0;\n",
              "      width: 32px;\n",
              "    }\n",
              "\n",
              "    .colab-df-convert:hover {\n",
              "      background-color: #E2EBFA;\n",
              "      box-shadow: 0px 1px 2px rgba(60, 64, 67, 0.3), 0px 1px 3px 1px rgba(60, 64, 67, 0.15);\n",
              "      fill: #174EA6;\n",
              "    }\n",
              "\n",
              "    .colab-df-buttons div {\n",
              "      margin-bottom: 4px;\n",
              "    }\n",
              "\n",
              "    [theme=dark] .colab-df-convert {\n",
              "      background-color: #3B4455;\n",
              "      fill: #D2E3FC;\n",
              "    }\n",
              "\n",
              "    [theme=dark] .colab-df-convert:hover {\n",
              "      background-color: #434B5C;\n",
              "      box-shadow: 0px 1px 3px 1px rgba(0, 0, 0, 0.15);\n",
              "      filter: drop-shadow(0px 1px 2px rgba(0, 0, 0, 0.3));\n",
              "      fill: #FFFFFF;\n",
              "    }\n",
              "  </style>\n",
              "\n",
              "    <script>\n",
              "      const buttonEl =\n",
              "        document.querySelector('#df-cf33e1ed-e98b-4ee4-bea7-1c835256de62 button.colab-df-convert');\n",
              "      buttonEl.style.display =\n",
              "        google.colab.kernel.accessAllowed ? 'block' : 'none';\n",
              "\n",
              "      async function convertToInteractive(key) {\n",
              "        const element = document.querySelector('#df-cf33e1ed-e98b-4ee4-bea7-1c835256de62');\n",
              "        const dataTable =\n",
              "          await google.colab.kernel.invokeFunction('convertToInteractive',\n",
              "                                                    [key], {});\n",
              "        if (!dataTable) return;\n",
              "\n",
              "        const docLinkHtml = 'Like what you see? Visit the ' +\n",
              "          '<a target=\"_blank\" href=https://colab.research.google.com/notebooks/data_table.ipynb>data table notebook</a>'\n",
              "          + ' to learn more about interactive tables.';\n",
              "        element.innerHTML = '';\n",
              "        dataTable['output_type'] = 'display_data';\n",
              "        await google.colab.output.renderOutput(dataTable, element);\n",
              "        const docLink = document.createElement('div');\n",
              "        docLink.innerHTML = docLinkHtml;\n",
              "        element.appendChild(docLink);\n",
              "      }\n",
              "    </script>\n",
              "  </div>\n",
              "\n",
              "\n",
              "<div id=\"df-6d00efbd-2be2-416b-8b51-3179eab4740e\">\n",
              "  <button class=\"colab-df-quickchart\" onclick=\"quickchart('df-6d00efbd-2be2-416b-8b51-3179eab4740e')\"\n",
              "            title=\"Suggest charts.\"\n",
              "            style=\"display:none;\">\n",
              "\n",
              "<svg xmlns=\"http://www.w3.org/2000/svg\" height=\"24px\"viewBox=\"0 0 24 24\"\n",
              "     width=\"24px\">\n",
              "    <g>\n",
              "        <path d=\"M19 3H5c-1.1 0-2 .9-2 2v14c0 1.1.9 2 2 2h14c1.1 0 2-.9 2-2V5c0-1.1-.9-2-2-2zM9 17H7v-7h2v7zm4 0h-2V7h2v10zm4 0h-2v-4h2v4z\"/>\n",
              "    </g>\n",
              "</svg>\n",
              "  </button>\n",
              "\n",
              "<style>\n",
              "  .colab-df-quickchart {\n",
              "      --bg-color: #E8F0FE;\n",
              "      --fill-color: #1967D2;\n",
              "      --hover-bg-color: #E2EBFA;\n",
              "      --hover-fill-color: #174EA6;\n",
              "      --disabled-fill-color: #AAA;\n",
              "      --disabled-bg-color: #DDD;\n",
              "  }\n",
              "\n",
              "  [theme=dark] .colab-df-quickchart {\n",
              "      --bg-color: #3B4455;\n",
              "      --fill-color: #D2E3FC;\n",
              "      --hover-bg-color: #434B5C;\n",
              "      --hover-fill-color: #FFFFFF;\n",
              "      --disabled-bg-color: #3B4455;\n",
              "      --disabled-fill-color: #666;\n",
              "  }\n",
              "\n",
              "  .colab-df-quickchart {\n",
              "    background-color: var(--bg-color);\n",
              "    border: none;\n",
              "    border-radius: 50%;\n",
              "    cursor: pointer;\n",
              "    display: none;\n",
              "    fill: var(--fill-color);\n",
              "    height: 32px;\n",
              "    padding: 0;\n",
              "    width: 32px;\n",
              "  }\n",
              "\n",
              "  .colab-df-quickchart:hover {\n",
              "    background-color: var(--hover-bg-color);\n",
              "    box-shadow: 0 1px 2px rgba(60, 64, 67, 0.3), 0 1px 3px 1px rgba(60, 64, 67, 0.15);\n",
              "    fill: var(--button-hover-fill-color);\n",
              "  }\n",
              "\n",
              "  .colab-df-quickchart-complete:disabled,\n",
              "  .colab-df-quickchart-complete:disabled:hover {\n",
              "    background-color: var(--disabled-bg-color);\n",
              "    fill: var(--disabled-fill-color);\n",
              "    box-shadow: none;\n",
              "  }\n",
              "\n",
              "  .colab-df-spinner {\n",
              "    border: 2px solid var(--fill-color);\n",
              "    border-color: transparent;\n",
              "    border-bottom-color: var(--fill-color);\n",
              "    animation:\n",
              "      spin 1s steps(1) infinite;\n",
              "  }\n",
              "\n",
              "  @keyframes spin {\n",
              "    0% {\n",
              "      border-color: transparent;\n",
              "      border-bottom-color: var(--fill-color);\n",
              "      border-left-color: var(--fill-color);\n",
              "    }\n",
              "    20% {\n",
              "      border-color: transparent;\n",
              "      border-left-color: var(--fill-color);\n",
              "      border-top-color: var(--fill-color);\n",
              "    }\n",
              "    30% {\n",
              "      border-color: transparent;\n",
              "      border-left-color: var(--fill-color);\n",
              "      border-top-color: var(--fill-color);\n",
              "      border-right-color: var(--fill-color);\n",
              "    }\n",
              "    40% {\n",
              "      border-color: transparent;\n",
              "      border-right-color: var(--fill-color);\n",
              "      border-top-color: var(--fill-color);\n",
              "    }\n",
              "    60% {\n",
              "      border-color: transparent;\n",
              "      border-right-color: var(--fill-color);\n",
              "    }\n",
              "    80% {\n",
              "      border-color: transparent;\n",
              "      border-right-color: var(--fill-color);\n",
              "      border-bottom-color: var(--fill-color);\n",
              "    }\n",
              "    90% {\n",
              "      border-color: transparent;\n",
              "      border-bottom-color: var(--fill-color);\n",
              "    }\n",
              "  }\n",
              "</style>\n",
              "\n",
              "  <script>\n",
              "    async function quickchart(key) {\n",
              "      const quickchartButtonEl =\n",
              "        document.querySelector('#' + key + ' button');\n",
              "      quickchartButtonEl.disabled = true;  // To prevent multiple clicks.\n",
              "      quickchartButtonEl.classList.add('colab-df-spinner');\n",
              "      try {\n",
              "        const charts = await google.colab.kernel.invokeFunction(\n",
              "            'suggestCharts', [key], {});\n",
              "      } catch (error) {\n",
              "        console.error('Error during call to suggestCharts:', error);\n",
              "      }\n",
              "      quickchartButtonEl.classList.remove('colab-df-spinner');\n",
              "      quickchartButtonEl.classList.add('colab-df-quickchart-complete');\n",
              "    }\n",
              "    (() => {\n",
              "      let quickchartButtonEl =\n",
              "        document.querySelector('#df-6d00efbd-2be2-416b-8b51-3179eab4740e button');\n",
              "      quickchartButtonEl.style.display =\n",
              "        google.colab.kernel.accessAllowed ? 'block' : 'none';\n",
              "    })();\n",
              "  </script>\n",
              "</div>\n",
              "    </div>\n",
              "  </div>\n"
            ]
          },
          "metadata": {},
          "execution_count": 15
        }
      ],
      "source": [
        "data = pd.DataFrame(task['data'])\n",
        "data.head(5)"
      ]
    },
    {
      "cell_type": "code",
      "execution_count": 16,
      "metadata": {
        "id": "GTvVzYzI2SvL"
      },
      "outputs": [],
      "source": [
        "X = data.values\n",
        "X = X.T"
      ]
    },
    {
      "cell_type": "markdown",
      "metadata": {
        "id": "1UW0EvEI2SvM"
      },
      "source": [
        "## T-критерий Стьюдента (без поправок)"
      ]
    },
    {
      "cell_type": "code",
      "execution_count": 17,
      "metadata": {
        "id": "p5ab845Y2SvM"
      },
      "outputs": [],
      "source": [
        "m = X.shape[0]\n",
        "p_values = []\n",
        "for i in range(m):\n",
        "    for j in range(m):\n",
        "        if i < j:\n",
        "            p_values.append(st.ttest_ind(X[i], X[j])[1])\n",
        ""
      ]
    },
    {
      "cell_type": "code",
      "execution_count": 18,
      "metadata": {
        "colab": {
          "base_uri": "https://localhost:8080/"
        },
        "id": "pYN5TgEF2SvN",
        "outputId": "1090f14c-8742-4a97-bccf-51842876ef47"
      },
      "outputs": [
        {
          "output_type": "stream",
          "name": "stdout",
          "text": [
            "Количество проведений теста Стьюдента: 21\n"
          ]
        }
      ],
      "source": [
        "N = m*(m - 1)//2\n",
        "print('Количество проведений теста Стьюдента: {}'.format(N))"
      ]
    },
    {
      "cell_type": "code",
      "execution_count": 19,
      "metadata": {
        "colab": {
          "base_uri": "https://localhost:8080/"
        },
        "id": "V12qhsy82SvN",
        "outputId": "cf3fe252-f5ce-478d-8ead-3b1ca05c9794"
      },
      "outputs": [
        {
          "output_type": "stream",
          "name": "stdout",
          "text": [
            "accepted 6\n",
            "rejected 15\n"
          ]
        }
      ],
      "source": [
        "f = lambda x: x> 0.05\n",
        "accepted = len(list(filter(f, p_values)))\n",
        "print('accepted {}'.format(accepted))\n",
        "print('rejected {}'.format(len(p_values) - accepted))"
      ]
    },
    {
      "cell_type": "code",
      "execution_count": 20,
      "metadata": {
        "colab": {
          "base_uri": "https://localhost:8080/"
        },
        "id": "JdmLNQ-72SvO",
        "outputId": "2fdb11d0-1195-4195-c551-50592d8ad9b7"
      },
      "outputs": [
        {
          "output_type": "stream",
          "name": "stdout",
          "text": [
            "accepted 6\n",
            "rejected 15\n"
          ]
        }
      ],
      "source": [
        "m = X.shape[0]\n",
        "p_values = []\n",
        "for i in range(m):\n",
        "    for j in range(m):\n",
        "        if i < j:\n",
        "            p_values.append(st.ttest_ind(X[i], X[j], equal_var = False)[1])\n",
        "\n",
        "f = lambda x: x> 0.05\n",
        "accepted = len(list(filter(f, p_values)))\n",
        "print('accepted {}'.format(accepted))\n",
        "print('rejected {}'.format(len(p_values) - accepted))"
      ]
    },
    {
      "cell_type": "code",
      "execution_count": 21,
      "metadata": {
        "id": "SqxRnYiI2SvO"
      },
      "outputs": [],
      "source": [
        "noncor = sorted(p_values)"
      ]
    },
    {
      "cell_type": "markdown",
      "metadata": {
        "id": "B1RJd2qI2SvO"
      },
      "source": [
        "## T-критерий Стьюдента (c поправками)"
      ]
    },
    {
      "cell_type": "markdown",
      "metadata": {
        "id": "CtCeha3w2SvO"
      },
      "source": [
        "### 1. Бонферрони"
      ]
    },
    {
      "cell_type": "code",
      "execution_count": 23,
      "metadata": {
        "colab": {
          "base_uri": "https://localhost:8080/"
        },
        "id": "JBRPrvEa2SvP",
        "outputId": "94c5af53-491a-4926-9989-0c078087705e"
      },
      "outputs": [
        {
          "output_type": "stream",
          "name": "stdout",
          "text": [
            "accepted 12\n",
            "rejected 9\n"
          ]
        }
      ],
      "source": [
        "m = X.shape[0]\n",
        "p_values = []\n",
        "for i in range(m):\n",
        "    for j in range(m):\n",
        "        if i < j:\n",
        "            p_values.append(st.ttest_ind(X[i], X[j], equal_var = False)[1])\n",
        "\n",
        "rejections = multipletests(p_values, method='bonferroni')[0]\n",
        "f = lambda x: x == False\n",
        "accepted = len(list(filter(f, rejections)))\n",
        "print('accepted {}'.format(accepted))\n",
        "print('rejected {}'.format(len(p_values) - accepted))"
      ]
    },
    {
      "cell_type": "code",
      "execution_count": 24,
      "metadata": {
        "colab": {
          "base_uri": "https://localhost:8080/"
        },
        "id": "5nUw6xUw2SvP",
        "outputId": "7a9d9ead-2445-430f-abe4-743ba77bdb90"
      },
      "outputs": [
        {
          "output_type": "stream",
          "name": "stdout",
          "text": [
            "Значение уровня значимости при введении поправки Бонферрони: 0.002380952380952381\n"
          ]
        }
      ],
      "source": [
        "alpha = multipletests(p_values, method='bonferroni', alpha = 0.05)[3]\n",
        "print('Значение уровня значимости при введении поправки Бонферрони: {}'.format(alpha))"
      ]
    },
    {
      "cell_type": "code",
      "execution_count": 25,
      "metadata": {
        "id": "dAKA_tqy2SvP"
      },
      "outputs": [],
      "source": [
        "bon = sorted(multipletests(p_values, method='bonferroni')[1])"
      ]
    },
    {
      "cell_type": "markdown",
      "metadata": {
        "id": "ALTXDmFA2SvP"
      },
      "source": [
        "### 2. Холма"
      ]
    },
    {
      "cell_type": "code",
      "execution_count": 26,
      "metadata": {
        "colab": {
          "base_uri": "https://localhost:8080/"
        },
        "id": "UuNIfY4Y2SvP",
        "outputId": "7480c0ed-473f-4dfc-b939-3bb8ea200aa3"
      },
      "outputs": [
        {
          "output_type": "stream",
          "name": "stdout",
          "text": [
            "accepted 11\n",
            "rejected 10\n"
          ]
        }
      ],
      "source": [
        "m = X.shape[0]\n",
        "p_values = []\n",
        "for i in range(m):\n",
        "    for j in range(m):\n",
        "        if i < j:\n",
        "            p_values.append(st.ttest_ind(X[i], X[j], equal_var = False)[1])\n",
        "\n",
        "rejections = multipletests(p_values, method='holm')[0]\n",
        "\n",
        "f = lambda x: x == False\n",
        "accepted = len(list(filter(f, rejections)))\n",
        "print('accepted {}'.format(accepted))\n",
        "print('rejected {}'.format(len(p_values) - accepted))"
      ]
    },
    {
      "cell_type": "code",
      "execution_count": 27,
      "metadata": {
        "id": "zTGabKdV2SvQ"
      },
      "outputs": [],
      "source": [
        "holm = sorted(multipletests(p_values, method='holm')[1])"
      ]
    },
    {
      "cell_type": "code",
      "execution_count": 28,
      "metadata": {
        "colab": {
          "base_uri": "https://localhost:8080/",
          "height": 682
        },
        "id": "gFl_1ijN2SvQ",
        "outputId": "18bf625f-e4a9-4160-efce-79bdcb74e649"
      },
      "outputs": [
        {
          "output_type": "display_data",
          "data": {
            "text/plain": [
              "<Figure size 1200x800 with 1 Axes>"
            ],
            "image/png": "[encoded data removed]"
          },
          "metadata": {}
        }
      ],
      "source": [
        "plt.scatter(range(1, N+1),noncor , s=N, color = 'brown', label = 'Non corrections')\n",
        "plt.scatter(range(1, N+1), holm, s=N, color = 'blue', label = 'Holm',marker = \"^\", linewidths =7 )\n",
        "plt.scatter(range(1, N+1), bon, s=N, color = 'orange', label = 'Bonferroni', marker = 'D', linewidths =4)\n",
        "plt.axhline(y = 0.05, color = 'red', linewidth = 1)\n",
        "plt.legend()\n",
        "plt.show()"
      ]
    },
    {
      "cell_type": "markdown",
      "metadata": {
        "id": "DLkeGZfK2SvQ"
      },
      "source": [
        "## Оценка количества верных гипотиз $m_0$ по методу Шведера-Спьётволла"
      ]
    },
    {
      "cell_type": "code",
      "execution_count": 29,
      "metadata": {
        "colab": {
          "base_uri": "https://localhost:8080/"
        },
        "id": "A3MSdDCM2SvQ",
        "outputId": "312b628d-9ff9-470e-be09-ad8a5371121f"
      },
      "outputs": [
        {
          "output_type": "execute_result",
          "data": {
            "text/plain": [
              "6.0"
            ]
          },
          "metadata": {},
          "execution_count": 29
        }
      ],
      "source": [
        "m = X.shape[0]\n",
        "p_values = []\n",
        "for i in range(m):\n",
        "    for j in range(m):\n",
        "        if i < j:\n",
        "            p_values.append(st.ttest_ind(X[i], X[j])[1])\n",
        "\n",
        "\n",
        "l = 0.5\n",
        "m0 = 1/(1 - l)*(1 + (np.array(p_values) > 0.5).sum())\n",
        "m0"
      ]
    }
  ],
  "metadata": {
    "kernelspec": {
      "display_name": "Python 3",
      "language": "python",
      "name": "python3"
    },
    "language_info": {
      "codemirror_mode": {
        "name": "ipython",
        "version": 3
      },
      "file_extension": ".py",
      "mimetype": "text/x-python",
      "name": "python",
      "nbconvert_exporter": "python",
      "pygments_lexer": "ipython3",
      "version": "3.7.3"
    },
    "colab": {
      "provenance": []
    }
  },
  "nbformat": 4,
  "nbformat_minor": 0
}