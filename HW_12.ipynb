{
  "cells": [
    {
      "cell_type": "markdown",
      "metadata": {
        "id": "SWpzzBKX5lab"
      },
      "source": [
        "# Библиотеки"
      ]
    },
    {
      "cell_type": "code",
      "execution_count": 1,
      "metadata": {
        "id": "DVElVx3w5lag"
      },
      "outputs": [],
      "source": [
        "from zlib import crc32\n",
        "\n",
        "import numpy as np\n",
        "import pandas as pd\n",
        "import scipy.stats as st\n",
        "\n",
        "from nltk import lm\n",
        "from nltk.util import ngrams as nltk_ngrams\n",
        "from nltk.tag.hmm import HiddenMarkovModelTrainer\n",
        "from pandas import DataFrame, read_csv\n",
        "from seaborn import heatmap"
      ]
    },
    {
      "cell_type": "markdown",
      "metadata": {
        "id": "W10bESh65lah"
      },
      "source": [
        "# Код генерации выборки"
      ]
    },
    {
      "cell_type": "code",
      "execution_count": 2,
      "metadata": {
        "id": "-dRusc3I5lai"
      },
      "outputs": [],
      "source": [
        "import re\n",
        "EMAIL_REGEX = re.compile(r\"[^@]+@phystech.edu\")\n",
        "\n",
        "def generate_dataset(code):\n",
        "    rs = np.random.RandomState(code)\n",
        "    length = rs.randint(low = 25, high = 75)\n",
        "    proba = rs.uniform()\n",
        "    x = [(rs.uniform() > 0.5) * 1.0]\n",
        "    for i in range(length):\n",
        "        if rs.uniform() < proba:\n",
        "            x.append(x[-1])\n",
        "        else:\n",
        "            x.append(1 - x[-1])\n",
        "    return np.array(x)"
      ]
    },
    {
      "cell_type": "markdown",
      "metadata": {
        "id": "LXkXPYIz5laj"
      },
      "source": [
        "# Генерация выборки для вашей почты\n",
        "\n",
        "<span style=\"color:red\">\n",
        "    ВАЖНО!\n",
        "    Почта, которую укажете ниже и почта с которой Вы отправляете домашнее задание должна совпадать!\n",
        "    В момент проверки задания алгоритм генерирует выборку на основе почты из анкеты!\n",
        "</span>\n",
        "\n",
        "Внимательно проверьте почту для которой выполняется задание!"
      ]
    },
    {
      "cell_type": "code",
      "execution_count": 3,
      "metadata": {
        "colab": {
          "base_uri": "https://localhost:8080/"
        },
        "id": "h8bMsPHy5laj",
        "outputId": "7318b3d6-94e8-4495-b4fd-2fea1c8dfe28"
      },
      "outputs": [
        {
          "name": "stdout",
          "output_type": "stream",
          "text": [
            "Enter your mail: egorov.sa@phystech.edu\n"
          ]
        },
        {
          "data": {
            "text/plain": [
              "{'mail': 'egorov.sa@phystech.edu',\n",
              " 'id': 1581189463,\n",
              " 'data': array([1., 1., 0., 0., 1., 1., 1., 0., 0., 0., 0., 0., 0., 0., 1., 1., 1.,\n",
              "        1., 1., 0., 0., 1., 0., 1., 0., 1., 0., 0., 0., 0., 1., 0., 0., 0.,\n",
              "        0., 1., 0., 1., 0., 1., 0., 0., 1., 0., 1., 0., 0.])}"
            ]
          },
          "execution_count": 3,
          "metadata": {},
          "output_type": "execute_result"
        }
      ],
      "source": [
        "task = dict()\n",
        "task['mail'] = input(prompt='Enter your mail: ')\n",
        "assert EMAIL_REGEX.match(task['mail']), 'Not a mail in the phystech.edu domain'\n",
        "task['id'] = crc32(task['mail'].encode('utf-8'))\n",
        "task['data'] = generate_dataset(task['id'])\n",
        "\n",
        "task"
      ]
    },
    {
      "cell_type": "markdown",
      "metadata": {
        "id": "WprDKyMv5lak"
      },
      "source": [
        "# Работа с выборкой"
      ]
    },
    {
      "cell_type": "code",
      "execution_count": 11,
      "metadata": {
        "id": "4vg4-wylFXc4"
      },
      "outputs": [],
      "source": [
        "data = pd.DataFrame(task['data'])"
      ]
    },
    {
      "cell_type": "code",
      "execution_count": 12,
      "metadata": {
        "colab": {
          "base_uri": "https://localhost:8080/"
        },
        "id": "Rrr7pMtBGFy9",
        "outputId": "42287481-4a71-4d32-ef91-7c5c0fbfbd5d"
      },
      "outputs": [
        {
          "data": {
            "text/plain": [
              "0.0    28\n",
              "1.0    19\n",
              "Name: 0, dtype: int64"
            ]
          },
          "execution_count": 12,
          "metadata": {},
          "output_type": "execute_result"
        }
      ],
      "source": [
        "data[0].value_counts()"
      ]
    },
    {
      "cell_type": "code",
      "execution_count": 13,
      "metadata": {
        "id": "OsEgVWpfFw7z"
      },
      "outputs": [],
      "source": [
        "data = data.astype(str)"
      ]
    },
    {
      "cell_type": "code",
      "execution_count": 22,
      "metadata": {
        "id": "8byotZ-Eb0-v"
      },
      "outputs": [],
      "source": [
        "array = data.values.T.reshape(data.values.T.shape[1]).astype(float).astype(int)"
      ]
    },
    {
      "cell_type": "code",
      "execution_count": 23,
      "metadata": {
        "id": "TqShmtKNb0-w"
      },
      "outputs": [],
      "source": [
        "from collections import Counter\n",
        "\n",
        "def ngrams_and_prefix_counts(tokens, n_max):\n",
        "    # словарь n-грамм и их частот\n",
        "    ngrams_counts = {}\n",
        "    # словарь n-граммных префиксов и их частот\n",
        "    prefix_counts = {}\n",
        "\n",
        "    n = len(tokens)\n",
        "    for i in range(n_max):\n",
        "        ngrams_counts[i + 1] = Counter([tuple(tokens[j : j + i + 1]) for j in range(n - i)])\n",
        "        prefix_counts[i + 1] = Counter([tuple(tokens[j : j + i] + ['*']) for j in range(n - i)])\n",
        "\n",
        "    return ngrams_counts, prefix_counts"
      ]
    },
    {
      "cell_type": "markdown",
      "metadata": {
        "id": "Embl-TKJb0-x"
      },
      "source": [
        "2-грамма и ее частотная вероятность"
      ]
    },
    {
      "cell_type": "code",
      "execution_count": 24,
      "metadata": {
        "id": "ZRepH2PTb0-z"
      },
      "outputs": [],
      "source": [
        "def bigram_probas(ngram_counts, prefix_counts):\n",
        "    p2 = {}\n",
        "    for w in ngram_counts[2]:\n",
        "        pre_w = tuple([w[0]] + ['*'])\n",
        "        p2[u'{1}|{0}'.format(*w)] = ngram_counts[2][w] / prefix_counts[2][pre_w]\n",
        "    return p2"
      ]
    },
    {
      "cell_type": "code",
      "execution_count": 25,
      "metadata": {
        "id": "ta9vCC9ab0-0"
      },
      "outputs": [],
      "source": [
        "ngram_counts, prefix_counts = ngrams_and_prefix_counts(list(array), 3)"
      ]
    },
    {
      "cell_type": "markdown",
      "metadata": {
        "id": "HLFC2PswGM39"
      },
      "source": [
        "# Задание"
      ]
    },
    {
      "cell_type": "markdown",
      "metadata": {
        "id": "qW6VvOePGQEh"
      },
      "source": [
        "## Вопрос 1\n",
        "Оценка $p(X_{i+1}= 0|X_{i}=0)$ методом максимального правдоподобия"
      ]
    },
    {
      "cell_type": "code",
      "execution_count": 14,
      "metadata": {
        "id": "mVtj0CRAJleF"
      },
      "outputs": [],
      "source": [
        "tokens = data[0].values\n",
        "vocab = list(data[0].unique())"
      ]
    },
    {
      "cell_type": "code",
      "execution_count": 15,
      "metadata": {
        "id": "EW_P1LWmMxSX"
      },
      "outputs": [],
      "source": [
        "def make_tag(c):\n",
        "    return (c, int(float(c)))\n",
        "supervised = [make_tag(c) for c in data[0]]"
      ]
    },
    {
      "cell_type": "markdown",
      "metadata": {
        "id": "4xq_KItZMz2j"
      },
      "source": [
        "Обучим модельку supervised-методом (по ММП)"
      ]
    },
    {
      "cell_type": "code",
      "execution_count": 16,
      "metadata": {
        "id": "phC-blI7IKqU"
      },
      "outputs": [],
      "source": [
        "trainer = HiddenMarkovModelTrainer(range(2), vocab)\n",
        "tagger = trainer.train_supervised([supervised])"
      ]
    },
    {
      "cell_type": "code",
      "execution_count": 17,
      "metadata": {
        "colab": {
          "base_uri": "https://localhost:8080/",
          "height": 447
        },
        "id": "DGGtpnqKHygN",
        "outputId": "18195822-26f2-4d85-fb05-eb7a65b6d527"
      },
      "outputs": [
        {
          "data": {
            "text/plain": [
              "<Axes: >"
            ]
          },
          "execution_count": 17,
          "metadata": {},
          "output_type": "execute_result"
        },
        {
          "data": {
            "image/png": "[encoded data removed]",
            "text/plain": [
              "<Figure size 640x480 with 2 Axes>"
            ]
          },
          "metadata": {},
          "output_type": "display_data"
        }
      ],
      "source": [
        "trans_matr = DataFrame(\n",
        "    data=[\n",
        "        [tagger._transitions[0].prob(0), tagger._transitions[0].prob(1)],\n",
        "        [tagger._transitions[1].prob(0), tagger._transitions[1].prob(1)]\n",
        "    ],\n",
        "    columns=[0, 1],\n",
        "    index=[0, 1])\n",
        "heatmap(trans_matr)"
      ]
    },
    {
      "cell_type": "code",
      "execution_count": 18,
      "metadata": {
        "colab": {
          "base_uri": "https://localhost:8080/"
        },
        "id": "XeRQqG1uIUi4",
        "outputId": "ee265eca-c5db-4ae9-94f2-1af63eed22f0"
      },
      "outputs": [
        {
          "name": "stdout",
          "output_type": "stream",
          "text": [
            "Оценка p(0|0) = 0.59\n"
          ]
        }
      ],
      "source": [
        "print(f\"Оценка p(0|0) = {tagger._transitions[0].prob(0):.2f}\")"
      ]
    },
    {
      "cell_type": "markdown",
      "metadata": {
        "id": "7SnRqKwUK6z4"
      },
      "source": [
        "## Вопрос 2\n",
        "Отвергается ли нулевая гипотеза $p(X_{i+1}= 0|X_{i}=0)=0.9$?"
      ]
    },
    {
      "cell_type": "markdown",
      "metadata": {
        "id": "AKrPknhkb0-2"
      },
      "source": [
        "Введем статистику $T = \\sum^{n - 1}_{i = 1}I[X_{i+1} = 0, X_i = 0]$. Нулевое распределение — биномиальное распределение $Bin(n-1, p)$."
      ]
    },
    {
      "cell_type": "code",
      "execution_count": 26,
      "metadata": {
        "colab": {
          "base_uri": "https://localhost:8080/"
        },
        "id": "01kmAzTPb0-3",
        "outputId": "7aa838e7-e291-43ea-89ed-58c8d1a7477c"
      },
      "outputs": [
        {
          "data": {
            "text/plain": [
              "Counter({(1, 1): 7, (1, 0): 12, (0, 0): 16, (0, 1): 11})"
            ]
          },
          "execution_count": 26,
          "metadata": {},
          "output_type": "execute_result"
        }
      ],
      "source": [
        "ngram_counts[2]"
      ]
    },
    {
      "cell_type": "markdown",
      "metadata": {
        "id": "IpNny1lfb0-3"
      },
      "source": [
        "Для нашей последовательности $T = 14$."
      ]
    },
    {
      "cell_type": "code",
      "execution_count": 27,
      "metadata": {
        "colab": {
          "base_uri": "https://localhost:8080/"
        },
        "id": "_xPZOfrbb0-3",
        "outputId": "be5ef849-4f8c-4872-c505-952a4b5b046b"
      },
      "outputs": [
        {
          "name": "stderr",
          "output_type": "stream",
          "text": [
            "<ipython-input-27-78007366b095>:8: DeprecationWarning: 'binom_test' is deprecated in favour of 'binomtest' from version 1.7.0 and will be removed in Scipy 1.12.0.\n",
            "  st.binom_test(T, n, p0, alternative='less'), proportions_chisquare(T, n, p0)[1]\n"
          ]
        },
        {
          "data": {
            "text/plain": [
              "(4.214263498554258e-27, 6.3305005986367e-52)"
            ]
          },
          "execution_count": 27,
          "metadata": {},
          "output_type": "execute_result"
        }
      ],
      "source": [
        "import scipy.stats as st\n",
        "from statsmodels.stats.proportion import proportions_chisquare\n",
        "\n",
        "\n",
        "T = 14\n",
        "n = 52\n",
        "p0 = 0.9\n",
        "st.binom_test(T, n, p0, alternative='less'), proportions_chisquare(T, n, p0)[1]"
      ]
    },
    {
      "cell_type": "markdown",
      "metadata": {
        "id": "6yKjIxpZb0-4"
      },
      "source": [
        "Полученные $p-value$ меньше 0,05, следовательно, нулевая гипотеза отвергается."
      ]
    },
    {
      "cell_type": "markdown",
      "metadata": {
        "id": "o47zt2-vLFGc"
      },
      "source": [
        "## Вопрос 3\n",
        "Какова вероятность встретить $X_i=2$ с применением сглаживания Лапласа?"
      ]
    },
    {
      "cell_type": "code",
      "execution_count": 19,
      "metadata": {
        "id": "oiZxl6cRIChK"
      },
      "outputs": [],
      "source": [
        "laplace = lm.Laplace(order=1)\n",
        "laplace.fit([list(nltk_ngrams(tokens, 1))], vocabulary_text=list(set(tokens)))"
      ]
    },
    {
      "cell_type": "code",
      "execution_count": 20,
      "metadata": {
        "colab": {
          "base_uri": "https://localhost:8080/"
        },
        "id": "bkHC0isdKIbD",
        "outputId": "ed322ef3-a14e-4084-a00f-6d98869b25ea"
      },
      "outputs": [
        {
          "name": "stdout",
          "output_type": "stream",
          "text": [
            "Вероятность встретить X_i = 2 с Лапласом: 0.02\n"
          ]
        }
      ],
      "source": [
        "print(f\"Вероятность встретить X_i = 2 с Лапласом: {laplace.score('2'):.2f}\")"
      ]
    }
  ],
  "metadata": {
    "colab": {
      "provenance": []
    },
    "kernelspec": {
      "display_name": "Python 3",
      "name": "python3"
    },
    "language_info": {
      "name": "python"
    }
  },
  "nbformat": 4,
  "nbformat_minor": 0
}
