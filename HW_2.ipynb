{
  "cells": [
    {
      "cell_type": "markdown",
      "metadata": {
        "id": "SWpzzBKX5lab"
      },
      "source": [
        "# Библиотеки"
      ]
    },
    {
      "cell_type": "code",
      "execution_count": 30,
      "metadata": {
        "id": "DVElVx3w5lag"
      },
      "outputs": [],
      "source": [
        "from zlib import crc32\n",
        "\n",
        "import numpy as np\n",
        "import pandas as pd\n",
        "import scipy.stats as st\n",
        "from scipy.stats import jarque_bera\n",
        "from scipy.stats import shapiro\n",
        "\n",
        "import warnings\n",
        "warnings.filterwarnings(\"ignore\")"
      ]
    },
    {
      "cell_type": "markdown",
      "metadata": {
        "id": "W10bESh65lah"
      },
      "source": [
        "# Код генерации выборки"
      ]
    },
    {
      "cell_type": "code",
      "execution_count": 2,
      "metadata": {
        "id": "-dRusc3I5lai"
      },
      "outputs": [],
      "source": [
        "import re\n",
        "EMAIL_REGEX = re.compile(r\"[^@]+@phystech.edu\")\n",
        "\n",
        "def generate_dataset(code):\n",
        "    rs = np.random.RandomState(code)\n",
        "    data = rs.randn(100)\n",
        "    noise_case = rs.randint(low = 0, high = 3)\n",
        "    max_attemp_num = 10000\n",
        "    if noise_case == 0:\n",
        "        bad = True\n",
        "        attemps = 0\n",
        "        while bad and attemps < max_attemp_num:\n",
        "            data2 = data + rs.laplace(size = (100)) * 0.25\n",
        "            p1 = jarque_bera(data2)[1]\n",
        "            p2 = shapiro(data2)[1]\n",
        "\n",
        "            if p1 < 0.05 and p2 > 0.05:\n",
        "                bad = False\n",
        "        data = data2\n",
        "        if bad:\n",
        "            print ('could not')\n",
        "    elif noise_case == 1:\n",
        "        data = data + rs.gamma(1, size=(100))*0.5\n",
        "    elif noise_case == 2:\n",
        "        data = data +  rs.uniform()*1.5\n",
        "\n",
        "    return data"
      ]
    },
    {
      "cell_type": "markdown",
      "metadata": {
        "id": "LXkXPYIz5laj"
      },
      "source": [
        "# Генерация выборки для вашей почты\n",
        "\n",
        "<span style=\"color:red\">\n",
        "    ВАЖНО!\n",
        "    Почта, которую укажете ниже и почта с которой Вы отправляете домашнее задание должна совпадать!\n",
        "    В момент проверки задания алгоритм генерирует выборку на основе почты из анкеты!\n",
        "</span>\n",
        "\n",
        "Внимательно проверьте почту для которой выполняется задание!"
      ]
    },
    {
      "cell_type": "code",
      "execution_count": 3,
      "metadata": {
        "id": "h8bMsPHy5laj",
        "colab": {
          "base_uri": "https://localhost:8080/"
        },
        "outputId": "3c470037-85c6-4a2d-90f7-0a6745f52ded"
      },
      "outputs": [
        {
          "name": "stdout",
          "output_type": "stream",
          "text": [
            "Enter your mail: egorov.sa@phystech.edu\n"
          ]
        },
        {
          "output_type": "execute_result",
          "data": {
            "text/plain": [
              "{'mail': 'egorov.sa@phystech.edu',\n",
              " 'id': 1581189463,\n",
              " 'data': array([ 1.06037604, -0.15375779, -0.54514438, -0.25665905,  0.34882239,\n",
              "        -0.2065498 ,  1.0977466 , -0.31542487,  0.20623395,  0.55553099,\n",
              "        -2.70129363, -0.36156498, -0.03478419,  0.28278954,  0.36017102,\n",
              "        -0.55951976, -0.59846063,  1.15594758, -0.38676524, -0.4706392 ,\n",
              "        -1.3888606 ,  1.02212967,  1.30901239,  1.406303  ,  0.36458551,\n",
              "        -1.48581811, -0.32734353,  0.5293529 , -0.75427568,  0.93831996,\n",
              "         1.45094896, -2.27539463,  1.49666248, -0.9567224 , -0.37192089,\n",
              "        -0.93075537, -0.80560881,  0.91729426, -0.36160874, -0.8402609 ,\n",
              "         0.07588868, -0.44127798, -1.55640434,  0.89125963, -0.30225815,\n",
              "        -0.66268948, -0.84859751, -0.12304585,  0.73437766,  0.91146308,\n",
              "         0.56636882,  0.25427588, -0.1082083 ,  0.54025753,  0.21052126,\n",
              "         1.64898193, -0.27364669, -0.80565764, -0.50084254, -0.30956891,\n",
              "        -1.00416408, -2.27965641,  0.27841732,  0.58041744,  0.90877788,\n",
              "         1.31650279,  0.32197653,  1.44887421,  0.88989308, -1.4346347 ,\n",
              "         0.80243594, -1.23337134, -0.13205425,  0.55615034,  1.43996745,\n",
              "         0.04348843, -0.30305029, -0.79641399, -0.74311258,  2.26797759,\n",
              "         0.48904603,  0.0201614 , -0.14523069,  0.11720726, -0.38993623,\n",
              "        -3.47876244, -1.3301914 ,  1.28392282, -1.29019652,  0.79972043,\n",
              "         0.96982274, -0.5348811 , -1.13148778, -0.06624775,  0.54161344,\n",
              "        -0.07290182, -0.67502951,  1.39012153, -0.25775202, -0.24535166])}"
            ]
          },
          "metadata": {},
          "execution_count": 3
        }
      ],
      "source": [
        "task = dict()\n",
        "task['mail'] = input(prompt='Enter your mail: ')\n",
        "assert EMAIL_REGEX.match(task['mail']), 'Not a mail in the phystech.edu domain'\n",
        "task['id'] = crc32(task['mail'].encode('utf-8'))\n",
        "task['data'] = generate_dataset(task['id'])\n",
        "\n",
        "task"
      ]
    },
    {
      "cell_type": "markdown",
      "metadata": {
        "id": "WprDKyMv5lak"
      },
      "source": [
        "# Работа с выборкой"
      ]
    },
    {
      "cell_type": "code",
      "execution_count": 4,
      "metadata": {
        "id": "ZHQaq3RJ5lal"
      },
      "outputs": [],
      "source": [
        "data = pd.DataFrame(task['data'])"
      ]
    },
    {
      "cell_type": "markdown",
      "source": [
        "## Выборочное среднее по выборке"
      ],
      "metadata": {
        "id": "uVTApKH3n9qR"
      }
    },
    {
      "cell_type": "code",
      "execution_count": 5,
      "metadata": {
        "id": "y3U23VKk5lal",
        "colab": {
          "base_uri": "https://localhost:8080/"
        },
        "outputId": "ebf3a598-4ca1-425c-ec59-f7c4d3d90f26"
      },
      "outputs": [
        {
          "output_type": "stream",
          "name": "stdout",
          "text": [
            "mean = -0.038\n"
          ]
        }
      ],
      "source": [
        "print(f'mean = {data[0].mean():.3f}')"
      ]
    },
    {
      "cell_type": "markdown",
      "source": [
        "## Оценка стандартного отклонения (несмещенная)"
      ],
      "metadata": {
        "id": "0f0tGtoRoDwr"
      }
    },
    {
      "cell_type": "code",
      "source": [
        "print(f'unbiased std = {data[0].std(ddof=1):.3f}')"
      ],
      "metadata": {
        "id": "GJHHvYy8oGKR",
        "colab": {
          "base_uri": "https://localhost:8080/"
        },
        "outputId": "b5fe36bc-fc67-4822-b329-e8f1adc7d187"
      },
      "execution_count": 8,
      "outputs": [
        {
          "output_type": "stream",
          "name": "stdout",
          "text": [
            "unbiased std = 0.991\n"
          ]
        }
      ]
    },
    {
      "cell_type": "markdown",
      "source": [
        "## Можно ли отклонить гипотезу о нормальности выборки, используя критерий Харке-Бера (p<=0.05)?"
      ],
      "metadata": {
        "id": "B-iCVoSOoHIu"
      }
    },
    {
      "cell_type": "code",
      "source": [
        "st.jarque_bera(data[0])[1] <= 0.05"
      ],
      "metadata": {
        "id": "fZnIqQRloLQ6",
        "colab": {
          "base_uri": "https://localhost:8080/"
        },
        "outputId": "ca41ca5b-86fd-4858-a3cb-c5d3434977b4"
      },
      "execution_count": 16,
      "outputs": [
        {
          "output_type": "execute_result",
          "data": {
            "text/plain": [
              "True"
            ]
          },
          "metadata": {},
          "execution_count": 16
        }
      ]
    },
    {
      "cell_type": "markdown",
      "source": [
        "## Можно ли отклонить гипотезу о нормальности выборки, используя критерий Шапиро-Уилка (p<=0.05)?"
      ],
      "metadata": {
        "id": "AdwUirsioMCO"
      }
    },
    {
      "cell_type": "code",
      "source": [
        "st.shapiro(data[0])[1] <= 0.05"
      ],
      "metadata": {
        "id": "OwrmJ1DYoODk",
        "colab": {
          "base_uri": "https://localhost:8080/"
        },
        "outputId": "08f99660-679e-4564-9332-8b7db40443d1"
      },
      "execution_count": 19,
      "outputs": [
        {
          "output_type": "execute_result",
          "data": {
            "text/plain": [
              "False"
            ]
          },
          "metadata": {},
          "execution_count": 19
        }
      ]
    },
    {
      "cell_type": "markdown",
      "source": [
        "## Сумма единиц в бинаризованной выборке"
      ],
      "metadata": {
        "id": "VdqCVxSdoPIj"
      }
    },
    {
      "cell_type": "code",
      "source": [
        "(data[0] >= 0).astype(int).sum()"
      ],
      "metadata": {
        "id": "w0H4by7QoQ6O",
        "colab": {
          "base_uri": "https://localhost:8080/"
        },
        "outputId": "4ced94ef-adf5-47eb-e727-9fa28ff0ec59"
      },
      "execution_count": 20,
      "outputs": [
        {
          "output_type": "execute_result",
          "data": {
            "text/plain": [
              "46"
            ]
          },
          "metadata": {},
          "execution_count": 20
        }
      ]
    },
    {
      "cell_type": "markdown",
      "source": [
        "## Значение p-value для биномиального теста с двусторонней альтернативой (p0 = 0.5)"
      ],
      "metadata": {
        "id": "0fqg5hORoRko"
      }
    },
    {
      "cell_type": "code",
      "source": [
        "print(st.binom_test(((data[0] >= 0).astype(int).sum(), len(data[0])), p=0.5, alternative='two-sided'))"
      ],
      "metadata": {
        "colab": {
          "base_uri": "https://localhost:8080/"
        },
        "id": "-PdfNPwZg5XQ",
        "outputId": "e0e1448b-93c2-4b01-d0fa-aa717a819d69"
      },
      "execution_count": 31,
      "outputs": [
        {
          "output_type": "stream",
          "name": "stdout",
          "text": [
            "9.236846495694579e-06\n"
          ]
        }
      ]
    }
  ],
  "metadata": {
    "colab": {
      "provenance": []
    },
    "kernelspec": {
      "display_name": "Python 3",
      "language": "python",
      "name": "python3"
    },
    "language_info": {
      "codemirror_mode": {
        "name": "ipython",
        "version": 3
      },
      "file_extension": ".py",
      "mimetype": "text/x-python",
      "name": "python",
      "nbconvert_exporter": "python",
      "pygments_lexer": "ipython3",
      "version": "3.7.3"
    }
  },
  "nbformat": 4,
  "nbformat_minor": 0
}