{
  "cells": [
    {
      "cell_type": "markdown",
      "metadata": {
        "id": "SWpzzBKX5lab"
      },
      "source": [
        "# Библиотеки"
      ]
    },
    {
      "cell_type": "code",
      "execution_count": 5,
      "metadata": {
        "id": "DVElVx3w5lag"
      },
      "outputs": [],
      "source": [
        "from zlib import crc32\n",
        "\n",
        "import numpy as np\n",
        "import pandas as pd\n",
        "import scipy.stats as st\n",
        "import matplotlib.pyplot as plt\n",
        "%matplotlib inline\n",
        "import seaborn as sns\n",
        "\n",
        "from statsmodels.formula.api import ols\n",
        "import statsmodels.api as sm"
      ]
    },
    {
      "cell_type": "markdown",
      "metadata": {
        "id": "W10bESh65lah"
      },
      "source": [
        "# Код генерации выборки"
      ]
    },
    {
      "cell_type": "code",
      "execution_count": 2,
      "metadata": {
        "id": "-dRusc3I5lai"
      },
      "outputs": [],
      "source": [
        "import re\n",
        "EMAIL_REGEX = re.compile(r\"[^@]+@phystech.edu\")\n",
        "\n",
        "def generate_dataset(code):\n",
        "    rs = np.random.RandomState(code)\n",
        "    tip = rs.randint(low = 0, high = 4)\n",
        "    C1 = rs.choice([1, 5], size = 1000)\n",
        "    C2 = rs.choice([2, 4], size = 1000)\n",
        "    if tip == 0 :\n",
        "        data = rs.randn(1000)\n",
        "    if tip == 1:\n",
        "        data = []\n",
        "        for c1,c2 in zip(C1, C2):\n",
        "            if c1 == 1:\n",
        "                data.append(rs.randn(1) + 1)\n",
        "            if c1 == 5:\n",
        "                data.append(rs.randn(1) - 1)\n",
        "        data = np.array(data)\n",
        "    if tip == 2:\n",
        "        data = []\n",
        "        for c1,c2 in zip(C1, C2):\n",
        "            if c1==1:\n",
        "                c1 = 0\n",
        "            else:\n",
        "                c1= 1\n",
        "            if c2 ==2:\n",
        "                c2 = 0\n",
        "            else:\n",
        "                c2 = 1\n",
        "            data.append(rs.randn(1) + c1 + c2)\n",
        "    if tip == 3:# on c1, c2\n",
        "        data = []\n",
        "        for c1,c2 in zip(C1,C2):\n",
        "            if c1==1:\n",
        "                c1 = 0\n",
        "            else:\n",
        "                c1= 1\n",
        "            if c2 ==2:\n",
        "                c2 = 0\n",
        "            else:\n",
        "                c2 = 1\n",
        "            data.append(rs.randn(1) + c1 + c2 + 5*c1*c2)\n",
        "        data = np.array(data)\n",
        "    return np.hstack([np.array(data).reshape(1000, 1), C1.reshape(1000, 1), C2.reshape(1000, 1)])"
      ]
    },
    {
      "cell_type": "markdown",
      "metadata": {
        "id": "LXkXPYIz5laj"
      },
      "source": [
        "# Генерация выборки для вашей почты\n",
        "\n",
        "<span style=\"color:red\">\n",
        "    ВАЖНО!\n",
        "    Почта, которую укажете ниже и почта с которой Вы отправляете домашнее задание должна совпадать!\n",
        "    В момент проверки задания алгоритм генерирует выборку на основе почты из анкеты!\n",
        "</span>\n",
        "\n",
        "Внимательно проверьте почту для которой выполняется задание!"
      ]
    },
    {
      "cell_type": "code",
      "execution_count": 3,
      "metadata": {
        "id": "h8bMsPHy5laj",
        "colab": {
          "base_uri": "https://localhost:8080/"
        },
        "outputId": "40bd589e-b2e4-4c5a-f2aa-93be8542be17"
      },
      "outputs": [
        {
          "name": "stdout",
          "output_type": "stream",
          "text": [
            "Enter your mail: egorov.sa@phystech.edu\n"
          ]
        },
        {
          "output_type": "execute_result",
          "data": {
            "text/plain": [
              "{'mail': 'egorov.sa@phystech.edu',\n",
              " 'id': 1581189463,\n",
              " 'data': array([[ 0.28568997,  1.        ,  2.        ],\n",
              "        [-1.44316383,  5.        ,  2.        ],\n",
              "        [ 0.36034202,  1.        ,  2.        ],\n",
              "        ...,\n",
              "        [ 2.16191444,  1.        ,  2.        ],\n",
              "        [ 1.08130347,  5.        ,  2.        ],\n",
              "        [ 1.14789086,  1.        ,  4.        ]])}"
            ]
          },
          "metadata": {},
          "execution_count": 3
        }
      ],
      "source": [
        "task = dict()\n",
        "task['mail'] = input(prompt='Enter your mail: ')\n",
        "assert EMAIL_REGEX.match(task['mail']), 'Not a mail in the phystech.edu domain'\n",
        "task['id'] = crc32(task['mail'].encode('utf-8'))\n",
        "task['data'] = generate_dataset(task['id'])\n",
        "\n",
        "task"
      ]
    },
    {
      "cell_type": "markdown",
      "metadata": {
        "id": "WprDKyMv5lak"
      },
      "source": [
        "# Работа с выборкой"
      ]
    },
    {
      "cell_type": "code",
      "execution_count": 10,
      "metadata": {
        "id": "ZHQaq3RJ5lal",
        "colab": {
          "base_uri": "https://localhost:8080/",
          "height": 300
        },
        "outputId": "8bb0e9c8-59b8-4ad7-a49b-75c5efeb6277"
      },
      "outputs": [
        {
          "output_type": "execute_result",
          "data": {
            "text/plain": [
              "                 f           c1           c2\n",
              "count  1000.000000  1000.000000  1000.000000\n",
              "mean     -0.019024     3.072000     3.024000\n",
              "std       1.401674     1.999704     1.000212\n",
              "min      -4.179774     1.000000     2.000000\n",
              "25%      -1.019398     1.000000     2.000000\n",
              "50%      -0.040992     5.000000     4.000000\n",
              "75%       1.063825     5.000000     4.000000\n",
              "max       3.775650     5.000000     4.000000"
            ],
            "text/html": [
              "\n",
              "  <div id=\"df-05956d16-c7af-4436-b782-c2f21905d161\" class=\"colab-df-container\">\n",
              "    <div>\n",
              "<style scoped>\n",
              "    .dataframe tbody tr th:only-of-type {\n",
              "        vertical-align: middle;\n",
              "    }\n",
              "\n",
              "    .dataframe tbody tr th {\n",
              "        vertical-align: top;\n",
              "    }\n",
              "\n",
              "    .dataframe thead th {\n",
              "        text-align: right;\n",
              "    }\n",
              "</style>\n",
              "<table border=\"1\" class=\"dataframe\">\n",
              "  <thead>\n",
              "    <tr style=\"text-align: right;\">\n",
              "      <th></th>\n",
              "      <th>f</th>\n",
              "      <th>c1</th>\n",
              "      <th>c2</th>\n",
              "    </tr>\n",
              "  </thead>\n",
              "  <tbody>\n",
              "    <tr>\n",
              "      <th>count</th>\n",
              "      <td>1000.000000</td>\n",
              "      <td>1000.000000</td>\n",
              "      <td>1000.000000</td>\n",
              "    </tr>\n",
              "    <tr>\n",
              "      <th>mean</th>\n",
              "      <td>-0.019024</td>\n",
              "      <td>3.072000</td>\n",
              "      <td>3.024000</td>\n",
              "    </tr>\n",
              "    <tr>\n",
              "      <th>std</th>\n",
              "      <td>1.401674</td>\n",
              "      <td>1.999704</td>\n",
              "      <td>1.000212</td>\n",
              "    </tr>\n",
              "    <tr>\n",
              "      <th>min</th>\n",
              "      <td>-4.179774</td>\n",
              "      <td>1.000000</td>\n",
              "      <td>2.000000</td>\n",
              "    </tr>\n",
              "    <tr>\n",
              "      <th>25%</th>\n",
              "      <td>-1.019398</td>\n",
              "      <td>1.000000</td>\n",
              "      <td>2.000000</td>\n",
              "    </tr>\n",
              "    <tr>\n",
              "      <th>50%</th>\n",
              "      <td>-0.040992</td>\n",
              "      <td>5.000000</td>\n",
              "      <td>4.000000</td>\n",
              "    </tr>\n",
              "    <tr>\n",
              "      <th>75%</th>\n",
              "      <td>1.063825</td>\n",
              "      <td>5.000000</td>\n",
              "      <td>4.000000</td>\n",
              "    </tr>\n",
              "    <tr>\n",
              "      <th>max</th>\n",
              "      <td>3.775650</td>\n",
              "      <td>5.000000</td>\n",
              "      <td>4.000000</td>\n",
              "    </tr>\n",
              "  </tbody>\n",
              "</table>\n",
              "</div>\n",
              "    <div class=\"colab-df-buttons\">\n",
              "\n",
              "  <div class=\"colab-df-container\">\n",
              "    <button class=\"colab-df-convert\" onclick=\"convertToInteractive('df-05956d16-c7af-4436-b782-c2f21905d161')\"\n",
              "            title=\"Convert this dataframe to an interactive table.\"\n",
              "            style=\"display:none;\">\n",
              "\n",
              "  <svg xmlns=\"http://www.w3.org/2000/svg\" height=\"24px\" viewBox=\"0 -960 960 960\">\n",
              "    <path d=\"M120-120v-720h720v720H120Zm60-500h600v-160H180v160Zm220 220h160v-160H400v160Zm0 220h160v-160H400v160ZM180-400h160v-160H180v160Zm440 0h160v-160H620v160ZM180-180h160v-160H180v160Zm440 0h160v-160H620v160Z\"/>\n",
              "  </svg>\n",
              "    </button>\n",
              "\n",
              "  <style>\n",
              "    .colab-df-container {\n",
              "      display:flex;\n",
              "      gap: 12px;\n",
              "    }\n",
              "\n",
              "    .colab-df-convert {\n",
              "      background-color: #E8F0FE;\n",
              "      border: none;\n",
              "      border-radius: 50%;\n",
              "      cursor: pointer;\n",
              "      display: none;\n",
              "      fill: #1967D2;\n",
              "      height: 32px;\n",
              "      padding: 0 0 0 0;\n",
              "      width: 32px;\n",
              "    }\n",
              "\n",
              "    .colab-df-convert:hover {\n",
              "      background-color: #E2EBFA;\n",
              "      box-shadow: 0px 1px 2px rgba(60, 64, 67, 0.3), 0px 1px 3px 1px rgba(60, 64, 67, 0.15);\n",
              "      fill: #174EA6;\n",
              "    }\n",
              "\n",
              "    .colab-df-buttons div {\n",
              "      margin-bottom: 4px;\n",
              "    }\n",
              "\n",
              "    [theme=dark] .colab-df-convert {\n",
              "      background-color: #3B4455;\n",
              "      fill: #D2E3FC;\n",
              "    }\n",
              "\n",
              "    [theme=dark] .colab-df-convert:hover {\n",
              "      background-color: #434B5C;\n",
              "      box-shadow: 0px 1px 3px 1px rgba(0, 0, 0, 0.15);\n",
              "      filter: drop-shadow(0px 1px 2px rgba(0, 0, 0, 0.3));\n",
              "      fill: #FFFFFF;\n",
              "    }\n",
              "  </style>\n",
              "\n",
              "    <script>\n",
              "      const buttonEl =\n",
              "        document.querySelector('#df-05956d16-c7af-4436-b782-c2f21905d161 button.colab-df-convert');\n",
              "      buttonEl.style.display =\n",
              "        google.colab.kernel.accessAllowed ? 'block' : 'none';\n",
              "\n",
              "      async function convertToInteractive(key) {\n",
              "        const element = document.querySelector('#df-05956d16-c7af-4436-b782-c2f21905d161');\n",
              "        const dataTable =\n",
              "          await google.colab.kernel.invokeFunction('convertToInteractive',\n",
              "                                                    [key], {});\n",
              "        if (!dataTable) return;\n",
              "\n",
              "        const docLinkHtml = 'Like what you see? Visit the ' +\n",
              "          '<a target=\"_blank\" href=https://colab.research.google.com/notebooks/data_table.ipynb>data table notebook</a>'\n",
              "          + ' to learn more about interactive tables.';\n",
              "        element.innerHTML = '';\n",
              "        dataTable['output_type'] = 'display_data';\n",
              "        await google.colab.output.renderOutput(dataTable, element);\n",
              "        const docLink = document.createElement('div');\n",
              "        docLink.innerHTML = docLinkHtml;\n",
              "        element.appendChild(docLink);\n",
              "      }\n",
              "    </script>\n",
              "  </div>\n",
              "\n",
              "\n",
              "<div id=\"df-88106db2-beab-4d5d-bbf3-6c2e3c055e5f\">\n",
              "  <button class=\"colab-df-quickchart\" onclick=\"quickchart('df-88106db2-beab-4d5d-bbf3-6c2e3c055e5f')\"\n",
              "            title=\"Suggest charts.\"\n",
              "            style=\"display:none;\">\n",
              "\n",
              "<svg xmlns=\"http://www.w3.org/2000/svg\" height=\"24px\"viewBox=\"0 0 24 24\"\n",
              "     width=\"24px\">\n",
              "    <g>\n",
              "        <path d=\"M19 3H5c-1.1 0-2 .9-2 2v14c0 1.1.9 2 2 2h14c1.1 0 2-.9 2-2V5c0-1.1-.9-2-2-2zM9 17H7v-7h2v7zm4 0h-2V7h2v10zm4 0h-2v-4h2v4z\"/>\n",
              "    </g>\n",
              "</svg>\n",
              "  </button>\n",
              "\n",
              "<style>\n",
              "  .colab-df-quickchart {\n",
              "      --bg-color: #E8F0FE;\n",
              "      --fill-color: #1967D2;\n",
              "      --hover-bg-color: #E2EBFA;\n",
              "      --hover-fill-color: #174EA6;\n",
              "      --disabled-fill-color: #AAA;\n",
              "      --disabled-bg-color: #DDD;\n",
              "  }\n",
              "\n",
              "  [theme=dark] .colab-df-quickchart {\n",
              "      --bg-color: #3B4455;\n",
              "      --fill-color: #D2E3FC;\n",
              "      --hover-bg-color: #434B5C;\n",
              "      --hover-fill-color: #FFFFFF;\n",
              "      --disabled-bg-color: #3B4455;\n",
              "      --disabled-fill-color: #666;\n",
              "  }\n",
              "\n",
              "  .colab-df-quickchart {\n",
              "    background-color: var(--bg-color);\n",
              "    border: none;\n",
              "    border-radius: 50%;\n",
              "    cursor: pointer;\n",
              "    display: none;\n",
              "    fill: var(--fill-color);\n",
              "    height: 32px;\n",
              "    padding: 0;\n",
              "    width: 32px;\n",
              "  }\n",
              "\n",
              "  .colab-df-quickchart:hover {\n",
              "    background-color: var(--hover-bg-color);\n",
              "    box-shadow: 0 1px 2px rgba(60, 64, 67, 0.3), 0 1px 3px 1px rgba(60, 64, 67, 0.15);\n",
              "    fill: var(--button-hover-fill-color);\n",
              "  }\n",
              "\n",
              "  .colab-df-quickchart-complete:disabled,\n",
              "  .colab-df-quickchart-complete:disabled:hover {\n",
              "    background-color: var(--disabled-bg-color);\n",
              "    fill: var(--disabled-fill-color);\n",
              "    box-shadow: none;\n",
              "  }\n",
              "\n",
              "  .colab-df-spinner {\n",
              "    border: 2px solid var(--fill-color);\n",
              "    border-color: transparent;\n",
              "    border-bottom-color: var(--fill-color);\n",
              "    animation:\n",
              "      spin 1s steps(1) infinite;\n",
              "  }\n",
              "\n",
              "  @keyframes spin {\n",
              "    0% {\n",
              "      border-color: transparent;\n",
              "      border-bottom-color: var(--fill-color);\n",
              "      border-left-color: var(--fill-color);\n",
              "    }\n",
              "    20% {\n",
              "      border-color: transparent;\n",
              "      border-left-color: var(--fill-color);\n",
              "      border-top-color: var(--fill-color);\n",
              "    }\n",
              "    30% {\n",
              "      border-color: transparent;\n",
              "      border-left-color: var(--fill-color);\n",
              "      border-top-color: var(--fill-color);\n",
              "      border-right-color: var(--fill-color);\n",
              "    }\n",
              "    40% {\n",
              "      border-color: transparent;\n",
              "      border-right-color: var(--fill-color);\n",
              "      border-top-color: var(--fill-color);\n",
              "    }\n",
              "    60% {\n",
              "      border-color: transparent;\n",
              "      border-right-color: var(--fill-color);\n",
              "    }\n",
              "    80% {\n",
              "      border-color: transparent;\n",
              "      border-right-color: var(--fill-color);\n",
              "      border-bottom-color: var(--fill-color);\n",
              "    }\n",
              "    90% {\n",
              "      border-color: transparent;\n",
              "      border-bottom-color: var(--fill-color);\n",
              "    }\n",
              "  }\n",
              "</style>\n",
              "\n",
              "  <script>\n",
              "    async function quickchart(key) {\n",
              "      const quickchartButtonEl =\n",
              "        document.querySelector('#' + key + ' button');\n",
              "      quickchartButtonEl.disabled = true;  // To prevent multiple clicks.\n",
              "      quickchartButtonEl.classList.add('colab-df-spinner');\n",
              "      try {\n",
              "        const charts = await google.colab.kernel.invokeFunction(\n",
              "            'suggestCharts', [key], {});\n",
              "      } catch (error) {\n",
              "        console.error('Error during call to suggestCharts:', error);\n",
              "      }\n",
              "      quickchartButtonEl.classList.remove('colab-df-spinner');\n",
              "      quickchartButtonEl.classList.add('colab-df-quickchart-complete');\n",
              "    }\n",
              "    (() => {\n",
              "      let quickchartButtonEl =\n",
              "        document.querySelector('#df-88106db2-beab-4d5d-bbf3-6c2e3c055e5f button');\n",
              "      quickchartButtonEl.style.display =\n",
              "        google.colab.kernel.accessAllowed ? 'block' : 'none';\n",
              "    })();\n",
              "  </script>\n",
              "</div>\n",
              "    </div>\n",
              "  </div>\n"
            ]
          },
          "metadata": {},
          "execution_count": 10
        }
      ],
      "source": [
        "data = pd.DataFrame(task['data'], columns=['f', 'c1', 'c2'])\n",
        "data.describe()"
      ]
    },
    {
      "cell_type": "markdown",
      "metadata": {
        "id": "VfZNykvE5MOr"
      },
      "source": [
        "- Проверить с использованием двухфакторного дисперсионного анализа, влияет ли переменная C1 на переменную f в данной линейной модели?\n",
        "\n",
        "- Проверить с использованием двухфакторного дисперсионного анализа, влияет ли переменная C2 на переменную f в данной линейной модели?\n",
        "\n",
        "- Проверить с использованием двухфакторного дисперсионного анализа, влияет ли межфакторное взаимодействие на переменную f в данной линейной модели?"
      ]
    },
    {
      "cell_type": "code",
      "execution_count": 11,
      "metadata": {
        "colab": {
          "base_uri": "https://localhost:8080/"
        },
        "id": "y8mrv0Qj5MOs",
        "outputId": "d1d72ff2-eb34-4113-fdd2-368e82bbd584"
      },
      "outputs": [
        {
          "output_type": "stream",
          "name": "stdout",
          "text": [
            "                            OLS Regression Results                            \n",
            "==============================================================================\n",
            "Dep. Variable:                      f   R-squared:                       0.496\n",
            "Model:                            OLS   Adj. R-squared:                  0.494\n",
            "Method:                 Least Squares   F-statistic:                     326.7\n",
            "Date:                Mon, 23 Oct 2023   Prob (F-statistic):          1.16e-147\n",
            "Time:                        14:20:42   Log-Likelihood:                -1413.5\n",
            "No. Observations:                1000   AIC:                             2835.\n",
            "Df Residuals:                     996   BIC:                             2855.\n",
            "Df Model:                           3                                         \n",
            "Covariance Type:            nonrobust                                         \n",
            "==============================================================================\n",
            "                 coef    std err          t      P>|t|      [0.025      0.975]\n",
            "------------------------------------------------------------------------------\n",
            "Intercept      1.5799      0.185      8.547      0.000       1.217       1.943\n",
            "c1            -0.5451      0.050    -10.848      0.000      -0.644      -0.447\n",
            "c2            -0.0277      0.058     -0.480      0.632      -0.141       0.086\n",
            "c1:c2          0.0172      0.016      1.092      0.275      -0.014       0.048\n",
            "==============================================================================\n",
            "Omnibus:                        1.507   Durbin-Watson:                   1.930\n",
            "Prob(Omnibus):                  0.471   Jarque-Bera (JB):                1.506\n",
            "Skew:                          -0.095   Prob(JB):                        0.471\n",
            "Kurtosis:                       2.981   Cond. No.                         78.3\n",
            "==============================================================================\n",
            "\n",
            "Notes:\n",
            "[1] Standard Errors assume that the covariance matrix of the errors is correctly specified.\n"
          ]
        }
      ],
      "source": [
        "lm = ols('f ~  c1 + c2 + c1:c2',  data=data).fit()\n",
        "print(lm.summary())"
      ]
    },
    {
      "cell_type": "code",
      "execution_count": 12,
      "metadata": {
        "colab": {
          "base_uri": "https://localhost:8080/",
          "height": 494
        },
        "id": "onG1InkS5MOt",
        "outputId": "882b99d8-a63c-4551-9d04-b1bdc523aea5"
      },
      "outputs": [
        {
          "output_type": "execute_result",
          "data": {
            "text/plain": [
              "<class 'statsmodels.iolib.summary.Summary'>\n",
              "\"\"\"\n",
              "                            OLS Regression Results                            \n",
              "==============================================================================\n",
              "Dep. Variable:                      f   R-squared:                       0.496\n",
              "Model:                            OLS   Adj. R-squared:                  0.494\n",
              "Method:                 Least Squares   F-statistic:                     326.7\n",
              "Date:                Mon, 23 Oct 2023   Prob (F-statistic):          1.16e-147\n",
              "Time:                        14:20:44   Log-Likelihood:                -1413.5\n",
              "No. Observations:                1000   AIC:                             2835.\n",
              "Df Residuals:                     996   BIC:                             2855.\n",
              "Df Model:                           3                                         \n",
              "Covariance Type:            nonrobust                                         \n",
              "==============================================================================\n",
              "                 coef    std err          t      P>|t|      [0.025      0.975]\n",
              "------------------------------------------------------------------------------\n",
              "Intercept      1.5799      0.185      8.547      0.000       1.217       1.943\n",
              "c1            -0.5451      0.050    -10.848      0.000      -0.644      -0.447\n",
              "c2            -0.0277      0.058     -0.480      0.632      -0.141       0.086\n",
              "c1:c2          0.0172      0.016      1.092      0.275      -0.014       0.048\n",
              "==============================================================================\n",
              "Omnibus:                        1.507   Durbin-Watson:                   1.930\n",
              "Prob(Omnibus):                  0.471   Jarque-Bera (JB):                1.506\n",
              "Skew:                          -0.095   Prob(JB):                        0.471\n",
              "Kurtosis:                       2.981   Cond. No.                         78.3\n",
              "==============================================================================\n",
              "\n",
              "Notes:\n",
              "[1] Standard Errors assume that the covariance matrix of the errors is correctly specified.\n",
              "\"\"\""
            ],
            "text/html": [
              "<table class=\"simpletable\">\n",
              "<caption>OLS Regression Results</caption>\n",
              "<tr>\n",
              "  <th>Dep. Variable:</th>            <td>f</td>        <th>  R-squared:         </th> <td>   0.496</td> \n",
              "</tr>\n",
              "<tr>\n",
              "  <th>Model:</th>                   <td>OLS</td>       <th>  Adj. R-squared:    </th> <td>   0.494</td> \n",
              "</tr>\n",
              "<tr>\n",
              "  <th>Method:</th>             <td>Least Squares</td>  <th>  F-statistic:       </th> <td>   326.7</td> \n",
              "</tr>\n",
              "<tr>\n",
              "  <th>Date:</th>             <td>Mon, 23 Oct 2023</td> <th>  Prob (F-statistic):</th> <td>1.16e-147</td>\n",
              "</tr>\n",
              "<tr>\n",
              "  <th>Time:</th>                 <td>14:20:44</td>     <th>  Log-Likelihood:    </th> <td> -1413.5</td> \n",
              "</tr>\n",
              "<tr>\n",
              "  <th>No. Observations:</th>      <td>  1000</td>      <th>  AIC:               </th> <td>   2835.</td> \n",
              "</tr>\n",
              "<tr>\n",
              "  <th>Df Residuals:</th>          <td>   996</td>      <th>  BIC:               </th> <td>   2855.</td> \n",
              "</tr>\n",
              "<tr>\n",
              "  <th>Df Model:</th>              <td>     3</td>      <th>                     </th>     <td> </td>    \n",
              "</tr>\n",
              "<tr>\n",
              "  <th>Covariance Type:</th>      <td>nonrobust</td>    <th>                     </th>     <td> </td>    \n",
              "</tr>\n",
              "</table>\n",
              "<table class=\"simpletable\">\n",
              "<tr>\n",
              "      <td></td>         <th>coef</th>     <th>std err</th>      <th>t</th>      <th>P>|t|</th>  <th>[0.025</th>    <th>0.975]</th>  \n",
              "</tr>\n",
              "<tr>\n",
              "  <th>Intercept</th> <td>    1.5799</td> <td>    0.185</td> <td>    8.547</td> <td> 0.000</td> <td>    1.217</td> <td>    1.943</td>\n",
              "</tr>\n",
              "<tr>\n",
              "  <th>c1</th>        <td>   -0.5451</td> <td>    0.050</td> <td>  -10.848</td> <td> 0.000</td> <td>   -0.644</td> <td>   -0.447</td>\n",
              "</tr>\n",
              "<tr>\n",
              "  <th>c2</th>        <td>   -0.0277</td> <td>    0.058</td> <td>   -0.480</td> <td> 0.632</td> <td>   -0.141</td> <td>    0.086</td>\n",
              "</tr>\n",
              "<tr>\n",
              "  <th>c1:c2</th>     <td>    0.0172</td> <td>    0.016</td> <td>    1.092</td> <td> 0.275</td> <td>   -0.014</td> <td>    0.048</td>\n",
              "</tr>\n",
              "</table>\n",
              "<table class=\"simpletable\">\n",
              "<tr>\n",
              "  <th>Omnibus:</th>       <td> 1.507</td> <th>  Durbin-Watson:     </th> <td>   1.930</td>\n",
              "</tr>\n",
              "<tr>\n",
              "  <th>Prob(Omnibus):</th> <td> 0.471</td> <th>  Jarque-Bera (JB):  </th> <td>   1.506</td>\n",
              "</tr>\n",
              "<tr>\n",
              "  <th>Skew:</th>          <td>-0.095</td> <th>  Prob(JB):          </th> <td>   0.471</td>\n",
              "</tr>\n",
              "<tr>\n",
              "  <th>Kurtosis:</th>      <td> 2.981</td> <th>  Cond. No.          </th> <td>    78.3</td>\n",
              "</tr>\n",
              "</table><br/><br/>Notes:<br/>[1] Standard Errors assume that the covariance matrix of the errors is correctly specified."
            ],
            "text/latex": "\\begin{center}\n\\begin{tabular}{lclc}\n\\toprule\n\\textbf{Dep. Variable:}    &        f         & \\textbf{  R-squared:         } &     0.496   \\\\\n\\textbf{Model:}            &       OLS        & \\textbf{  Adj. R-squared:    } &     0.494   \\\\\n\\textbf{Method:}           &  Least Squares   & \\textbf{  F-statistic:       } &     326.7   \\\\\n\\textbf{Date:}             & Mon, 23 Oct 2023 & \\textbf{  Prob (F-statistic):} & 1.16e-147   \\\\\n\\textbf{Time:}             &     14:20:44     & \\textbf{  Log-Likelihood:    } &   -1413.5   \\\\\n\\textbf{No. Observations:} &        1000      & \\textbf{  AIC:               } &     2835.   \\\\\n\\textbf{Df Residuals:}     &         996      & \\textbf{  BIC:               } &     2855.   \\\\\n\\textbf{Df Model:}         &           3      & \\textbf{                     } &             \\\\\n\\textbf{Covariance Type:}  &    nonrobust     & \\textbf{                     } &             \\\\\n\\bottomrule\n\\end{tabular}\n\\begin{tabular}{lcccccc}\n                   & \\textbf{coef} & \\textbf{std err} & \\textbf{t} & \\textbf{P$> |$t$|$} & \\textbf{[0.025} & \\textbf{0.975]}  \\\\\n\\midrule\n\\textbf{Intercept} &       1.5799  &        0.185     &     8.547  &         0.000        &        1.217    &        1.943     \\\\\n\\textbf{c1}        &      -0.5451  &        0.050     &   -10.848  &         0.000        &       -0.644    &       -0.447     \\\\\n\\textbf{c2}        &      -0.0277  &        0.058     &    -0.480  &         0.632        &       -0.141    &        0.086     \\\\\n\\textbf{c1:c2}     &       0.0172  &        0.016     &     1.092  &         0.275        &       -0.014    &        0.048     \\\\\n\\bottomrule\n\\end{tabular}\n\\begin{tabular}{lclc}\n\\textbf{Omnibus:}       &  1.507 & \\textbf{  Durbin-Watson:     } &    1.930  \\\\\n\\textbf{Prob(Omnibus):} &  0.471 & \\textbf{  Jarque-Bera (JB):  } &    1.506  \\\\\n\\textbf{Skew:}          & -0.095 & \\textbf{  Prob(JB):          } &    0.471  \\\\\n\\textbf{Kurtosis:}      &  2.981 & \\textbf{  Cond. No.          } &     78.3  \\\\\n\\bottomrule\n\\end{tabular}\n%\\caption{OLS Regression Results}\n\\end{center}\n\nNotes: \\newline\n [1] Standard Errors assume that the covariance matrix of the errors is correctly specified."
          },
          "metadata": {},
          "execution_count": 12
        }
      ],
      "source": [
        "lm.summary()"
      ]
    },
    {
      "cell_type": "code",
      "execution_count": 13,
      "metadata": {
        "colab": {
          "base_uri": "https://localhost:8080/"
        },
        "id": "sOMGFDa25MOu",
        "outputId": "07bf33da-8b87-4d35-f608-7b136e5a8f92"
      },
      "outputs": [
        {
          "output_type": "execute_result",
          "data": {
            "text/plain": [
              "<class 'statsmodels.stats.contrast.ContrastResults'>\n",
              "<F test: F=326.7188354940051, p=1.157977215996802e-147, df_denom=996, df_num=3>"
            ]
          },
          "metadata": {},
          "execution_count": 13
        }
      ],
      "source": [
        "lm.f_test(\"c1 = c2 = c1:c2 = 0\")"
      ]
    },
    {
      "cell_type": "markdown",
      "source": [
        "Итого:\n",
        "\n",
        "1. Переменная `с1` влияет на переменную `f` в линейной модели (`p-value = 0.000`)\n",
        "\n",
        "2. Переменная `с1` не влияет на переменную `f` в линейной модели (`p-value = 0.632`)\n",
        "\n",
        "3. Межжфакторное взаимодействие не влияет на переменную `f` в линейной модели (`p-value = 0.275`)"
      ],
      "metadata": {
        "id": "z8cHg-8p7zvs"
      }
    }
  ],
  "metadata": {
    "kernelspec": {
      "display_name": "Python 3",
      "language": "python",
      "name": "python3"
    },
    "language_info": {
      "codemirror_mode": {
        "name": "ipython",
        "version": 3
      },
      "file_extension": ".py",
      "mimetype": "text/x-python",
      "name": "python",
      "nbconvert_exporter": "python",
      "pygments_lexer": "ipython3",
      "version": "3.7.3"
    },
    "colab": {
      "provenance": []
    }
  },
  "nbformat": 4,
  "nbformat_minor": 0
}