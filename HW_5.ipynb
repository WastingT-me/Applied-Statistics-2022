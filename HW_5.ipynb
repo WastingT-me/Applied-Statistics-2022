{
  "cells": [
    {
      "cell_type": "markdown",
      "metadata": {
        "id": "SWpzzBKX5lab"
      },
      "source": [
        "# Библиотеки"
      ]
    },
    {
      "cell_type": "code",
      "execution_count": 1,
      "metadata": {
        "id": "DVElVx3w5lag"
      },
      "outputs": [],
      "source": [
        "from zlib import crc32\n",
        "\n",
        "import numpy as np\n",
        "import pandas as pd\n",
        "import scipy.stats as st\n",
        "import matplotlib.pylab as plt\n",
        "%matplotlib inline\n",
        "import seaborn as sns"
      ]
    },
    {
      "cell_type": "markdown",
      "metadata": {
        "id": "W10bESh65lah"
      },
      "source": [
        "# Код генерации выборки"
      ]
    },
    {
      "cell_type": "code",
      "execution_count": 2,
      "metadata": {
        "id": "-dRusc3I5lai"
      },
      "outputs": [],
      "source": [
        "import re\n",
        "EMAIL_REGEX = re.compile(r\"[^@]+@phystech.edu\")\n",
        "\n",
        "def generate_dataset(code):\n",
        "    rs = np.random.RandomState(code)\n",
        "    alpha = rs.uniform()*10\n",
        "    data = rs.randn(100, 2)\n",
        "    data[:,1] = data[:, 0]\n",
        "    data[:,1] += rs.randn(100)*alpha\n",
        "    data[-1,0] = 99999\n",
        "    return data"
      ]
    },
    {
      "cell_type": "markdown",
      "metadata": {
        "id": "LXkXPYIz5laj"
      },
      "source": [
        "# Генерация выборки для вашей почты\n",
        "\n",
        "<span style=\"color:red\">\n",
        "    ВАЖНО!\n",
        "    Почта, которую укажете ниже и почта с которой Вы отправляете домашнее задание должна совпадать!\n",
        "    В момент проверки задания алгоритм генерирует выборку на основе почты из анкеты!\n",
        "</span>\n",
        "\n",
        "Внимательно проверьте почту для которой выполняется задание!"
      ]
    },
    {
      "cell_type": "code",
      "execution_count": 3,
      "metadata": {
        "id": "h8bMsPHy5laj",
        "colab": {
          "base_uri": "https://localhost:8080/"
        },
        "outputId": "c6b5b51d-d682-42f9-9399-dd30363e9db6"
      },
      "outputs": [
        {
          "name": "stdout",
          "output_type": "stream",
          "text": [
            "Enter your mail: egorov.sa@phystech.edu\n"
          ]
        },
        {
          "output_type": "execute_result",
          "data": {
            "text/plain": [
              "{'mail': 'egorov.sa@phystech.edu',\n",
              " 'id': 1581189463,\n",
              " 'data': array([[-1.78987904e-01, -9.88808361e-02],\n",
              "        [-3.95224840e-01, -1.52876215e-01],\n",
              "        [-1.46970619e-01, -4.05422459e-01],\n",
              "        [-1.33522480e-01, -4.64450674e-01],\n",
              "        [ 2.43262250e-02,  7.26373788e-02],\n",
              "        [-1.09316453e+00, -1.23092134e+00],\n",
              "        [-4.54109640e-01, -7.28832223e-01],\n",
              "        [ 1.18487396e+00,  1.17942177e+00],\n",
              "        [-2.78304764e-01, -1.16179202e+00],\n",
              "        [ 1.11394584e+00,  1.25542441e+00],\n",
              "        [ 1.03691392e+00,  9.34973663e-01],\n",
              "        [-1.15315139e+00, -1.18992593e+00],\n",
              "        [ 2.14567275e+00,  2.34582404e+00],\n",
              "        [ 8.21901134e-01,  9.11524281e-01],\n",
              "        [-1.38964151e+00, -1.31520713e+00],\n",
              "        [-1.13475333e+00, -1.56368339e+00],\n",
              "        [-7.85544962e-01, -1.15036177e-01],\n",
              "        [-3.54055113e-01, -7.66237566e-01],\n",
              "        [ 6.45599109e-01,  5.88177567e-01],\n",
              "        [-3.35447444e-01,  9.39531403e-03],\n",
              "        [-3.94755203e-01, -5.86287626e-01],\n",
              "        [ 2.12426153e+00,  2.05595169e+00],\n",
              "        [-4.71348008e-01, -8.31617144e-01],\n",
              "        [-1.07462443e+00, -7.76791045e-01],\n",
              "        [ 3.60858155e-01,  4.09161360e-01],\n",
              "        [ 9.95442016e-01,  7.31554423e-01],\n",
              "        [ 8.49509359e-01,  1.14666081e+00],\n",
              "        [ 7.61152232e-01,  4.88642120e-01],\n",
              "        [-1.18391024e+00, -1.64323777e+00],\n",
              "        [-1.66471085e+00, -1.69970710e+00],\n",
              "        [-3.49812895e-01, -3.84364872e-01],\n",
              "        [-4.85669694e-01, -4.28706991e-01],\n",
              "        [ 6.95703755e-01,  8.04628969e-01],\n",
              "        [ 3.63241037e-01,  2.39466658e-01],\n",
              "        [ 5.02486189e-01,  4.88760613e-01],\n",
              "        [-8.69175302e-01, -5.16559420e-01],\n",
              "        [-6.87637847e-01, -5.84340278e-01],\n",
              "        [-8.36309737e-01, -1.17296378e+00],\n",
              "        [ 6.93676094e-01,  1.18896994e+00],\n",
              "        [ 5.14221765e-01,  3.63018010e-01],\n",
              "        [-4.43521922e-01,  1.26676320e-01],\n",
              "        [ 1.43572577e+00,  1.09346608e+00],\n",
              "        [-1.80078586e+00, -1.71590599e+00],\n",
              "        [-8.04687661e-01, -9.72588956e-01],\n",
              "        [-8.43995539e-01, -6.32192116e-01],\n",
              "        [ 6.98461836e-02,  6.27654664e-03],\n",
              "        [ 9.35646687e-01,  5.63684507e-01],\n",
              "        [-1.09050062e+00, -6.28700280e-01],\n",
              "        [-3.14081774e-01, -4.17509141e-03],\n",
              "        [ 4.39268161e-01,  5.70134260e-01],\n",
              "        [ 9.43658771e-02,  5.83240925e-02],\n",
              "        [ 1.13742587e+00,  1.28377546e+00],\n",
              "        [-2.21128949e-01, -7.14853200e-01],\n",
              "        [ 3.61675325e-01,  6.77155639e-01],\n",
              "        [-4.92171659e-01, -3.04688034e-01],\n",
              "        [ 9.82244644e-01,  4.15364429e-01],\n",
              "        [-8.54114116e-02,  3.36387403e-01],\n",
              "        [ 7.15647170e-01,  5.97192616e-01],\n",
              "        [-6.55196335e-01, -6.14161579e-01],\n",
              "        [ 2.94210497e-02,  1.38724942e-01],\n",
              "        [ 5.17940258e-01,  9.37175906e-01],\n",
              "        [-2.17003408e+00, -2.29582762e+00],\n",
              "        [-1.67044823e-01, -3.18934574e-01],\n",
              "        [ 9.46855938e-01,  1.10584856e+00],\n",
              "        [-5.85443374e-01, -8.20379011e-01],\n",
              "        [-1.02968729e+00, -3.40298986e-01],\n",
              "        [-6.92324743e-02, -2.79869431e-01],\n",
              "        [ 7.71613542e-01,  8.59042536e-01],\n",
              "        [ 5.65488436e-01,  1.96528162e-01],\n",
              "        [ 1.52258280e-01,  2.02862062e-01],\n",
              "        [ 9.21530288e-01,  9.90820079e-01],\n",
              "        [-1.18036071e+00, -1.26500795e+00],\n",
              "        [ 1.27120046e+00,  9.46754781e-01],\n",
              "        [ 1.11568221e+00,  1.01034505e+00],\n",
              "        [ 1.56393822e+00,  1.58893437e+00],\n",
              "        [ 4.75806294e-01,  9.79875505e-01],\n",
              "        [-6.08289558e-01, -3.46989753e-01],\n",
              "        [ 2.71161009e-01,  2.88891866e-01],\n",
              "        [ 1.63449694e-01,  1.07579296e-02],\n",
              "        [-1.26042854e+00, -8.91595880e-01],\n",
              "        [-7.97594503e-01, -1.16276927e+00],\n",
              "        [-6.14840682e-01, -8.52429983e-01],\n",
              "        [ 5.44999787e-01,  8.42874642e-01],\n",
              "        [ 6.22884859e-01,  3.24610749e-01],\n",
              "        [ 1.67932869e+00,  1.20843196e+00],\n",
              "        [ 5.50600088e-01,  7.27692442e-01],\n",
              "        [ 9.90643913e-02, -8.77240239e-02],\n",
              "        [-2.80770600e-01, -3.58063590e-01],\n",
              "        [-1.11144477e+00, -1.30390970e+00],\n",
              "        [ 2.26250238e+00,  2.06513649e+00],\n",
              "        [ 1.27792263e+00,  1.40443532e+00],\n",
              "        [ 1.21155180e+00,  1.04999604e+00],\n",
              "        [ 1.89267443e+00,  1.48588545e+00],\n",
              "        [ 9.64032488e-01,  8.65756805e-01],\n",
              "        [ 1.22447499e-01, -1.27754264e-01],\n",
              "        [ 1.09208225e+00,  1.55570952e+00],\n",
              "        [-2.56476354e-01, -4.89202148e-01],\n",
              "        [-1.36213277e-01,  2.87744856e-01],\n",
              "        [ 8.38213950e-01,  9.19958831e-01],\n",
              "        [ 9.99990000e+04, -6.93223278e-01]])}"
            ]
          },
          "metadata": {},
          "execution_count": 3
        }
      ],
      "source": [
        "task = dict()\n",
        "task['mail'] = input(prompt='Enter your mail: ')\n",
        "assert EMAIL_REGEX.match(task['mail']), 'Not a mail in the phystech.edu domain'\n",
        "task['id'] = crc32(task['mail'].encode('utf-8'))\n",
        "task['data'] = generate_dataset(task['id'])\n",
        "\n",
        "task"
      ]
    },
    {
      "cell_type": "markdown",
      "metadata": {
        "id": "WprDKyMv5lak"
      },
      "source": [
        "# Работа с выборкой"
      ]
    },
    {
      "cell_type": "code",
      "execution_count": 4,
      "metadata": {
        "id": "ZHQaq3RJ5lal",
        "colab": {
          "base_uri": "https://localhost:8080/",
          "height": 300
        },
        "outputId": "cf3876a5-4f69-47f8-94b5-315b2486d6dc"
      },
      "outputs": [
        {
          "output_type": "execute_result",
          "data": {
            "text/plain": [
              "                  0           1\n",
              "count    100.000000  100.000000\n",
              "mean    1000.090601    0.078983\n",
              "std     9999.889881    0.942573\n",
              "min       -2.170034   -2.295828\n",
              "25%       -0.515490   -0.617796\n",
              "50%        0.082106    0.065481\n",
              "75%        0.825979    0.860721\n",
              "max    99999.000000    2.345824"
            ],
            "text/html": [
              "\n",
              "  <div id=\"df-b96a4850-370a-4dd8-b6c0-40a019448160\" class=\"colab-df-container\">\n",
              "    <div>\n",
              "<style scoped>\n",
              "    .dataframe tbody tr th:only-of-type {\n",
              "        vertical-align: middle;\n",
              "    }\n",
              "\n",
              "    .dataframe tbody tr th {\n",
              "        vertical-align: top;\n",
              "    }\n",
              "\n",
              "    .dataframe thead th {\n",
              "        text-align: right;\n",
              "    }\n",
              "</style>\n",
              "<table border=\"1\" class=\"dataframe\">\n",
              "  <thead>\n",
              "    <tr style=\"text-align: right;\">\n",
              "      <th></th>\n",
              "      <th>0</th>\n",
              "      <th>1</th>\n",
              "    </tr>\n",
              "  </thead>\n",
              "  <tbody>\n",
              "    <tr>\n",
              "      <th>count</th>\n",
              "      <td>100.000000</td>\n",
              "      <td>100.000000</td>\n",
              "    </tr>\n",
              "    <tr>\n",
              "      <th>mean</th>\n",
              "      <td>1000.090601</td>\n",
              "      <td>0.078983</td>\n",
              "    </tr>\n",
              "    <tr>\n",
              "      <th>std</th>\n",
              "      <td>9999.889881</td>\n",
              "      <td>0.942573</td>\n",
              "    </tr>\n",
              "    <tr>\n",
              "      <th>min</th>\n",
              "      <td>-2.170034</td>\n",
              "      <td>-2.295828</td>\n",
              "    </tr>\n",
              "    <tr>\n",
              "      <th>25%</th>\n",
              "      <td>-0.515490</td>\n",
              "      <td>-0.617796</td>\n",
              "    </tr>\n",
              "    <tr>\n",
              "      <th>50%</th>\n",
              "      <td>0.082106</td>\n",
              "      <td>0.065481</td>\n",
              "    </tr>\n",
              "    <tr>\n",
              "      <th>75%</th>\n",
              "      <td>0.825979</td>\n",
              "      <td>0.860721</td>\n",
              "    </tr>\n",
              "    <tr>\n",
              "      <th>max</th>\n",
              "      <td>99999.000000</td>\n",
              "      <td>2.345824</td>\n",
              "    </tr>\n",
              "  </tbody>\n",
              "</table>\n",
              "</div>\n",
              "    <div class=\"colab-df-buttons\">\n",
              "\n",
              "  <div class=\"colab-df-container\">\n",
              "    <button class=\"colab-df-convert\" onclick=\"convertToInteractive('df-b96a4850-370a-4dd8-b6c0-40a019448160')\"\n",
              "            title=\"Convert this dataframe to an interactive table.\"\n",
              "            style=\"display:none;\">\n",
              "\n",
              "  <svg xmlns=\"http://www.w3.org/2000/svg\" height=\"24px\" viewBox=\"0 -960 960 960\">\n",
              "    <path d=\"M120-120v-720h720v720H120Zm60-500h600v-160H180v160Zm220 220h160v-160H400v160Zm0 220h160v-160H400v160ZM180-400h160v-160H180v160Zm440 0h160v-160H620v160ZM180-180h160v-160H180v160Zm440 0h160v-160H620v160Z\"/>\n",
              "  </svg>\n",
              "    </button>\n",
              "\n",
              "  <style>\n",
              "    .colab-df-container {\n",
              "      display:flex;\n",
              "      gap: 12px;\n",
              "    }\n",
              "\n",
              "    .colab-df-convert {\n",
              "      background-color: #E8F0FE;\n",
              "      border: none;\n",
              "      border-radius: 50%;\n",
              "      cursor: pointer;\n",
              "      display: none;\n",
              "      fill: #1967D2;\n",
              "      height: 32px;\n",
              "      padding: 0 0 0 0;\n",
              "      width: 32px;\n",
              "    }\n",
              "\n",
              "    .colab-df-convert:hover {\n",
              "      background-color: #E2EBFA;\n",
              "      box-shadow: 0px 1px 2px rgba(60, 64, 67, 0.3), 0px 1px 3px 1px rgba(60, 64, 67, 0.15);\n",
              "      fill: #174EA6;\n",
              "    }\n",
              "\n",
              "    .colab-df-buttons div {\n",
              "      margin-bottom: 4px;\n",
              "    }\n",
              "\n",
              "    [theme=dark] .colab-df-convert {\n",
              "      background-color: #3B4455;\n",
              "      fill: #D2E3FC;\n",
              "    }\n",
              "\n",
              "    [theme=dark] .colab-df-convert:hover {\n",
              "      background-color: #434B5C;\n",
              "      box-shadow: 0px 1px 3px 1px rgba(0, 0, 0, 0.15);\n",
              "      filter: drop-shadow(0px 1px 2px rgba(0, 0, 0, 0.3));\n",
              "      fill: #FFFFFF;\n",
              "    }\n",
              "  </style>\n",
              "\n",
              "    <script>\n",
              "      const buttonEl =\n",
              "        document.querySelector('#df-b96a4850-370a-4dd8-b6c0-40a019448160 button.colab-df-convert');\n",
              "      buttonEl.style.display =\n",
              "        google.colab.kernel.accessAllowed ? 'block' : 'none';\n",
              "\n",
              "      async function convertToInteractive(key) {\n",
              "        const element = document.querySelector('#df-b96a4850-370a-4dd8-b6c0-40a019448160');\n",
              "        const dataTable =\n",
              "          await google.colab.kernel.invokeFunction('convertToInteractive',\n",
              "                                                    [key], {});\n",
              "        if (!dataTable) return;\n",
              "\n",
              "        const docLinkHtml = 'Like what you see? Visit the ' +\n",
              "          '<a target=\"_blank\" href=https://colab.research.google.com/notebooks/data_table.ipynb>data table notebook</a>'\n",
              "          + ' to learn more about interactive tables.';\n",
              "        element.innerHTML = '';\n",
              "        dataTable['output_type'] = 'display_data';\n",
              "        await google.colab.output.renderOutput(dataTable, element);\n",
              "        const docLink = document.createElement('div');\n",
              "        docLink.innerHTML = docLinkHtml;\n",
              "        element.appendChild(docLink);\n",
              "      }\n",
              "    </script>\n",
              "  </div>\n",
              "\n",
              "\n",
              "<div id=\"df-def0de0d-76dd-4ac6-9c00-76f798580c4b\">\n",
              "  <button class=\"colab-df-quickchart\" onclick=\"quickchart('df-def0de0d-76dd-4ac6-9c00-76f798580c4b')\"\n",
              "            title=\"Suggest charts.\"\n",
              "            style=\"display:none;\">\n",
              "\n",
              "<svg xmlns=\"http://www.w3.org/2000/svg\" height=\"24px\"viewBox=\"0 0 24 24\"\n",
              "     width=\"24px\">\n",
              "    <g>\n",
              "        <path d=\"M19 3H5c-1.1 0-2 .9-2 2v14c0 1.1.9 2 2 2h14c1.1 0 2-.9 2-2V5c0-1.1-.9-2-2-2zM9 17H7v-7h2v7zm4 0h-2V7h2v10zm4 0h-2v-4h2v4z\"/>\n",
              "    </g>\n",
              "</svg>\n",
              "  </button>\n",
              "\n",
              "<style>\n",
              "  .colab-df-quickchart {\n",
              "      --bg-color: #E8F0FE;\n",
              "      --fill-color: #1967D2;\n",
              "      --hover-bg-color: #E2EBFA;\n",
              "      --hover-fill-color: #174EA6;\n",
              "      --disabled-fill-color: #AAA;\n",
              "      --disabled-bg-color: #DDD;\n",
              "  }\n",
              "\n",
              "  [theme=dark] .colab-df-quickchart {\n",
              "      --bg-color: #3B4455;\n",
              "      --fill-color: #D2E3FC;\n",
              "      --hover-bg-color: #434B5C;\n",
              "      --hover-fill-color: #FFFFFF;\n",
              "      --disabled-bg-color: #3B4455;\n",
              "      --disabled-fill-color: #666;\n",
              "  }\n",
              "\n",
              "  .colab-df-quickchart {\n",
              "    background-color: var(--bg-color);\n",
              "    border: none;\n",
              "    border-radius: 50%;\n",
              "    cursor: pointer;\n",
              "    display: none;\n",
              "    fill: var(--fill-color);\n",
              "    height: 32px;\n",
              "    padding: 0;\n",
              "    width: 32px;\n",
              "  }\n",
              "\n",
              "  .colab-df-quickchart:hover {\n",
              "    background-color: var(--hover-bg-color);\n",
              "    box-shadow: 0 1px 2px rgba(60, 64, 67, 0.3), 0 1px 3px 1px rgba(60, 64, 67, 0.15);\n",
              "    fill: var(--button-hover-fill-color);\n",
              "  }\n",
              "\n",
              "  .colab-df-quickchart-complete:disabled,\n",
              "  .colab-df-quickchart-complete:disabled:hover {\n",
              "    background-color: var(--disabled-bg-color);\n",
              "    fill: var(--disabled-fill-color);\n",
              "    box-shadow: none;\n",
              "  }\n",
              "\n",
              "  .colab-df-spinner {\n",
              "    border: 2px solid var(--fill-color);\n",
              "    border-color: transparent;\n",
              "    border-bottom-color: var(--fill-color);\n",
              "    animation:\n",
              "      spin 1s steps(1) infinite;\n",
              "  }\n",
              "\n",
              "  @keyframes spin {\n",
              "    0% {\n",
              "      border-color: transparent;\n",
              "      border-bottom-color: var(--fill-color);\n",
              "      border-left-color: var(--fill-color);\n",
              "    }\n",
              "    20% {\n",
              "      border-color: transparent;\n",
              "      border-left-color: var(--fill-color);\n",
              "      border-top-color: var(--fill-color);\n",
              "    }\n",
              "    30% {\n",
              "      border-color: transparent;\n",
              "      border-left-color: var(--fill-color);\n",
              "      border-top-color: var(--fill-color);\n",
              "      border-right-color: var(--fill-color);\n",
              "    }\n",
              "    40% {\n",
              "      border-color: transparent;\n",
              "      border-right-color: var(--fill-color);\n",
              "      border-top-color: var(--fill-color);\n",
              "    }\n",
              "    60% {\n",
              "      border-color: transparent;\n",
              "      border-right-color: var(--fill-color);\n",
              "    }\n",
              "    80% {\n",
              "      border-color: transparent;\n",
              "      border-right-color: var(--fill-color);\n",
              "      border-bottom-color: var(--fill-color);\n",
              "    }\n",
              "    90% {\n",
              "      border-color: transparent;\n",
              "      border-bottom-color: var(--fill-color);\n",
              "    }\n",
              "  }\n",
              "</style>\n",
              "\n",
              "  <script>\n",
              "    async function quickchart(key) {\n",
              "      const quickchartButtonEl =\n",
              "        document.querySelector('#' + key + ' button');\n",
              "      quickchartButtonEl.disabled = true;  // To prevent multiple clicks.\n",
              "      quickchartButtonEl.classList.add('colab-df-spinner');\n",
              "      try {\n",
              "        const charts = await google.colab.kernel.invokeFunction(\n",
              "            'suggestCharts', [key], {});\n",
              "      } catch (error) {\n",
              "        console.error('Error during call to suggestCharts:', error);\n",
              "      }\n",
              "      quickchartButtonEl.classList.remove('colab-df-spinner');\n",
              "      quickchartButtonEl.classList.add('colab-df-quickchart-complete');\n",
              "    }\n",
              "    (() => {\n",
              "      let quickchartButtonEl =\n",
              "        document.querySelector('#df-def0de0d-76dd-4ac6-9c00-76f798580c4b button');\n",
              "      quickchartButtonEl.style.display =\n",
              "        google.colab.kernel.accessAllowed ? 'block' : 'none';\n",
              "    })();\n",
              "  </script>\n",
              "</div>\n",
              "    </div>\n",
              "  </div>\n"
            ]
          },
          "metadata": {},
          "execution_count": 4
        }
      ],
      "source": [
        "data = pd.DataFrame(task['data'])\n",
        "data.describe()"
      ]
    },
    {
      "cell_type": "code",
      "execution_count": 5,
      "metadata": {
        "id": "KF2ITDXm4hgS"
      },
      "outputs": [],
      "source": [
        "text_size = 15\n",
        "plt.rcParams['lines.linewidth'] = 3\n",
        "plt.rcParams['lines.markersize'] = 6\n",
        "plt.rcParams['xtick.labelsize'] = text_size\n",
        "plt.rcParams['ytick.labelsize'] = text_size\n",
        "plt.rcParams['legend.fontsize'] = text_size\n",
        "plt.rcParams['axes.titlesize'] = text_size\n",
        "plt.rcParams['axes.labelsize'] = text_size\n",
        "plt.rcParams['figure.figsize'] = (12.0, 8.0)\n",
        "plt.rcParams['font.size'] = text_size"
      ]
    },
    {
      "cell_type": "code",
      "execution_count": 6,
      "metadata": {
        "id": "2ijxXlc34hgV"
      },
      "outputs": [],
      "source": [
        "X = data.values\n",
        "X = X.T"
      ]
    },
    {
      "cell_type": "markdown",
      "metadata": {
        "id": "TeF0zMcu4hgX"
      },
      "source": [
        "## t-критерий Стьюдента линейной зависимости"
      ]
    },
    {
      "cell_type": "code",
      "execution_count": 8,
      "metadata": {
        "colab": {
          "base_uri": "https://localhost:8080/"
        },
        "id": "wtB5h7oO4hgX",
        "outputId": "5f908b67-e6a1-46dc-f0d1-bc565eecff9b"
      },
      "outputs": [
        {
          "output_type": "stream",
          "name": "stdout",
          "text": [
            "Значение коэффициента корреляции Пирсона: -0.083 \n",
            "p-value = 0.414\n"
          ]
        }
      ],
      "source": [
        "r, p_value = st.pearsonr(X[0], X[1])\n",
        "print('Значение коэффициента корреляции Пирсона: {} '.format(round(r, 3)))\n",
        "print('p-value = {}'.format( round(p_value, 3) ))"
      ]
    },
    {
      "cell_type": "code",
      "execution_count": 9,
      "metadata": {
        "colab": {
          "base_uri": "https://localhost:8080/",
          "height": 682
        },
        "id": "bCy7uQZ14hgY",
        "outputId": "ff909e2b-038a-42c2-e2b4-d40e3604c5bf"
      },
      "outputs": [
        {
          "output_type": "display_data",
          "data": {
            "text/plain": [
              "<Figure size 1200x800 with 1 Axes>"
            ],
            "image/png": "[encoded data removed]"
          },
          "metadata": {}
        }
      ],
      "source": [
        "plt.hist(X[0], color = 'blue')\n",
        "plt.show()"
      ]
    },
    {
      "cell_type": "code",
      "execution_count": 10,
      "metadata": {
        "colab": {
          "base_uri": "https://localhost:8080/",
          "height": 682
        },
        "id": "OkMJqr6L4hgZ",
        "outputId": "df829cd6-2ad2-4216-efd6-110a09eaea66"
      },
      "outputs": [
        {
          "output_type": "display_data",
          "data": {
            "text/plain": [
              "<Figure size 1200x800 with 1 Axes>"
            ],
            "image/png": "[encoded data removed]"
          },
          "metadata": {}
        }
      ],
      "source": [
        "plt.hist(X[1], color = 'orange')\n",
        "plt.show()"
      ]
    },
    {
      "cell_type": "code",
      "execution_count": 11,
      "metadata": {
        "colab": {
          "base_uri": "https://localhost:8080/",
          "height": 682
        },
        "id": "8Gu9u9gj4hgZ",
        "outputId": "63b152d8-5850-48f8-9b67-bd47c60f0ec0"
      },
      "outputs": [
        {
          "output_type": "display_data",
          "data": {
            "text/plain": [
              "<Figure size 1200x800 with 1 Axes>"
            ],
            "image/png": "[encoded data removed]"
          },
          "metadata": {}
        }
      ],
      "source": [
        "X_0 = X[0][X[0] != X[0].max()]\n",
        "plt.hist(X_0, color = 'blue')\n",
        "plt.show()"
      ]
    },
    {
      "cell_type": "code",
      "execution_count": 12,
      "metadata": {
        "id": "pkTTXzpv4hga"
      },
      "outputs": [],
      "source": [
        "X_1 = X[1][X[1] != X[1].max()]"
      ]
    },
    {
      "cell_type": "code",
      "execution_count": 13,
      "metadata": {
        "colab": {
          "base_uri": "https://localhost:8080/"
        },
        "id": "doV6qwFm4hga",
        "outputId": "c5307960-8c38-43ea-c6fe-7bbfdf8980cf"
      },
      "outputs": [
        {
          "output_type": "stream",
          "name": "stdout",
          "text": [
            "Значение коэффициента корреляции Пирсона: 0.222 \n",
            "p-value = 0.027\n"
          ]
        }
      ],
      "source": [
        "r, p_value = st.pearsonr(X_0, X_1)\n",
        "print('Значение коэффициента корреляции Пирсона: {} '.format(round(r, 3)))\n",
        "print('p-value = {}'.format( round(p_value, 3) ))"
      ]
    },
    {
      "cell_type": "markdown",
      "metadata": {
        "id": "OEMpB0Ge4hga"
      },
      "source": [
        "### Коэффициент корреляции Кендалла"
      ]
    },
    {
      "cell_type": "code",
      "execution_count": 14,
      "metadata": {
        "colab": {
          "base_uri": "https://localhost:8080/"
        },
        "id": "qbPRi6BR4hga",
        "outputId": "f32c6da5-a482-4437-d6a2-97f6957699c2"
      },
      "outputs": [
        {
          "output_type": "stream",
          "name": "stdout",
          "text": [
            "Значение коэффициента корреляции Пирсона: 0.78 \n",
            "p-value = 0.0\n"
          ]
        }
      ],
      "source": [
        "tau, p_value = st.kendalltau(X[0], X[1])\n",
        "print('Значение коэффициента корреляции Пирсона: {} '.format(round(tau, 2)))\n",
        "print('p-value = {}'.format( round(p_value, 2) ))"
      ]
    }
  ],
  "metadata": {
    "kernelspec": {
      "display_name": "Python 3",
      "language": "python",
      "name": "python3"
    },
    "language_info": {
      "codemirror_mode": {
        "name": "ipython",
        "version": 3
      },
      "file_extension": ".py",
      "mimetype": "text/x-python",
      "name": "python",
      "nbconvert_exporter": "python",
      "pygments_lexer": "ipython3",
      "version": "3.7.3"
    },
    "colab": {
      "provenance": []
    }
  },
  "nbformat": 4,
  "nbformat_minor": 0
}