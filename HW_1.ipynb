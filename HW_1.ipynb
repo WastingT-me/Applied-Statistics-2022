{
  "nbformat": 4,
  "nbformat_minor": 0,
  "metadata": {
    "colab": {
      "provenance": []
    },
    "kernelspec": {
      "name": "python3",
      "display_name": "Python 3"
    },
    "language_info": {
      "name": "python"
    }
  },
  "cells": [
    {
      "cell_type": "markdown",
      "metadata": {
        "id": "SWpzzBKX5lab"
      },
      "source": [
        "# Библиотеки"
      ]
    },
    {
      "cell_type": "code",
      "execution_count": 1,
      "metadata": {
        "id": "DVElVx3w5lag"
      },
      "outputs": [],
      "source": [
        "from zlib import crc32\n",
        "\n",
        "import numpy as np\n",
        "import pandas as pd\n",
        "import scipy.stats as st\n",
        "from collections import Counter"
      ]
    },
    {
      "cell_type": "markdown",
      "metadata": {
        "id": "W10bESh65lah"
      },
      "source": [
        "# Код генерации выборки"
      ]
    },
    {
      "cell_type": "code",
      "execution_count": 2,
      "metadata": {
        "id": "-dRusc3I5lai"
      },
      "outputs": [],
      "source": [
        "import re\n",
        "EMAIL_REGEX = re.compile(r\"[^@]+@phystech.edu\")\n",
        "\n",
        "def generate_dataset(code):\n",
        "    rs = np.random.RandomState(code)\n",
        "    full_data = np.concatenate(\n",
        "        [\n",
        "            rs.randint(low=0, high=251, size=5000),\n",
        "            rs.randint(low=-250, high=0, size=5000)\n",
        "        ]\n",
        "    )\n",
        "\n",
        "    mode_cnt = st.mode(full_data)[1]\n",
        "    counts = Counter(full_data.tolist())\n",
        "\n",
        "    to_add = []\n",
        "    for i in range(rs.randint(low = 1, high = 5)):\n",
        "        obj_to_add = int(rs.randint(low=-250, high=251, size=1))\n",
        "        to_add += [obj_to_add for _ in range(0, int(mode_cnt - counts.get(obj_to_add, 0)))]\n",
        "\n",
        "    full_data = np.concatenate([full_data, to_add])\n",
        "    rs.shuffle(full_data)\n",
        "    return np.array(full_data)"
      ]
    },
    {
      "cell_type": "markdown",
      "metadata": {
        "id": "LXkXPYIz5laj"
      },
      "source": [
        "# Генерация выборки для вашей почты\n",
        "\n",
        "<span style=\"color:red\">\n",
        "    ВАЖНО!\n",
        "    Почта, которую укажете ниже и почта с которой Вы отправляете домашнее задание должна совпадать!\n",
        "    В момент проверки задания алгоритм генерирует выборку на основе почты из анкеты!\n",
        "</span>\n",
        "\n",
        "Внимательно проверьте почту для которой выполняется задание!"
      ]
    },
    {
      "cell_type": "code",
      "execution_count": 3,
      "metadata": {
        "id": "h8bMsPHy5laj",
        "colab": {
          "base_uri": "https://localhost:8080/"
        },
        "outputId": "6672b41a-34d6-4b05-86ae-957c60c845c5"
      },
      "outputs": [
        {
          "name": "stdout",
          "output_type": "stream",
          "text": [
            "Enter your mail: egorov.sa@phystech.edu\n"
          ]
        },
        {
          "output_type": "execute_result",
          "data": {
            "text/plain": [
              "{'mail': 'egorov.sa@phystech.edu',\n",
              " 'id': 1581189463,\n",
              " 'data': array([ -54,  226,  231, ...,   49,   41, -246])}"
            ]
          },
          "metadata": {},
          "execution_count": 3
        }
      ],
      "source": [
        "task = dict()\n",
        "task['mail'] = input(prompt='Enter your mail: ')\n",
        "assert EMAIL_REGEX.match(task['mail']), 'Not a mail in the phystech.edu domain'\n",
        "task['id'] = crc32(task['mail'].encode('utf-8'))\n",
        "task['data'] = generate_dataset(task['id'])\n",
        "\n",
        "task"
      ]
    },
    {
      "cell_type": "markdown",
      "metadata": {
        "id": "WprDKyMv5lak"
      },
      "source": [
        "# Работа с выборкой"
      ]
    },
    {
      "cell_type": "code",
      "execution_count": 19,
      "metadata": {
        "id": "ZHQaq3RJ5lal",
        "colab": {
          "base_uri": "https://localhost:8080/",
          "height": 300
        },
        "outputId": "0b55fa11-50fe-4e58-befb-c9e5a7f11888"
      },
      "outputs": [
        {
          "output_type": "execute_result",
          "data": {
            "text/plain": [
              "                  0\n",
              "count  10029.000000\n",
              "mean      -1.047462\n",
              "std      144.790867\n",
              "min     -250.000000\n",
              "25%     -126.000000\n",
              "50%        0.000000\n",
              "75%      126.000000\n",
              "max      250.000000"
            ],
            "text/html": [
              "\n",
              "  <div id=\"df-9402f1cc-35c2-4c90-bdd6-2b2236abfa16\" class=\"colab-df-container\">\n",
              "    <div>\n",
              "<style scoped>\n",
              "    .dataframe tbody tr th:only-of-type {\n",
              "        vertical-align: middle;\n",
              "    }\n",
              "\n",
              "    .dataframe tbody tr th {\n",
              "        vertical-align: top;\n",
              "    }\n",
              "\n",
              "    .dataframe thead th {\n",
              "        text-align: right;\n",
              "    }\n",
              "</style>\n",
              "<table border=\"1\" class=\"dataframe\">\n",
              "  <thead>\n",
              "    <tr style=\"text-align: right;\">\n",
              "      <th></th>\n",
              "      <th>0</th>\n",
              "    </tr>\n",
              "  </thead>\n",
              "  <tbody>\n",
              "    <tr>\n",
              "      <th>count</th>\n",
              "      <td>10029.000000</td>\n",
              "    </tr>\n",
              "    <tr>\n",
              "      <th>mean</th>\n",
              "      <td>-1.047462</td>\n",
              "    </tr>\n",
              "    <tr>\n",
              "      <th>std</th>\n",
              "      <td>144.790867</td>\n",
              "    </tr>\n",
              "    <tr>\n",
              "      <th>min</th>\n",
              "      <td>-250.000000</td>\n",
              "    </tr>\n",
              "    <tr>\n",
              "      <th>25%</th>\n",
              "      <td>-126.000000</td>\n",
              "    </tr>\n",
              "    <tr>\n",
              "      <th>50%</th>\n",
              "      <td>0.000000</td>\n",
              "    </tr>\n",
              "    <tr>\n",
              "      <th>75%</th>\n",
              "      <td>126.000000</td>\n",
              "    </tr>\n",
              "    <tr>\n",
              "      <th>max</th>\n",
              "      <td>250.000000</td>\n",
              "    </tr>\n",
              "  </tbody>\n",
              "</table>\n",
              "</div>\n",
              "    <div class=\"colab-df-buttons\">\n",
              "\n",
              "  <div class=\"colab-df-container\">\n",
              "    <button class=\"colab-df-convert\" onclick=\"convertToInteractive('df-9402f1cc-35c2-4c90-bdd6-2b2236abfa16')\"\n",
              "            title=\"Convert this dataframe to an interactive table.\"\n",
              "            style=\"display:none;\">\n",
              "\n",
              "  <svg xmlns=\"http://www.w3.org/2000/svg\" height=\"24px\" viewBox=\"0 -960 960 960\">\n",
              "    <path d=\"M120-120v-720h720v720H120Zm60-500h600v-160H180v160Zm220 220h160v-160H400v160Zm0 220h160v-160H400v160ZM180-400h160v-160H180v160Zm440 0h160v-160H620v160ZM180-180h160v-160H180v160Zm440 0h160v-160H620v160Z\"/>\n",
              "  </svg>\n",
              "    </button>\n",
              "\n",
              "  <style>\n",
              "    .colab-df-container {\n",
              "      display:flex;\n",
              "      gap: 12px;\n",
              "    }\n",
              "\n",
              "    .colab-df-convert {\n",
              "      background-color: #E8F0FE;\n",
              "      border: none;\n",
              "      border-radius: 50%;\n",
              "      cursor: pointer;\n",
              "      display: none;\n",
              "      fill: #1967D2;\n",
              "      height: 32px;\n",
              "      padding: 0 0 0 0;\n",
              "      width: 32px;\n",
              "    }\n",
              "\n",
              "    .colab-df-convert:hover {\n",
              "      background-color: #E2EBFA;\n",
              "      box-shadow: 0px 1px 2px rgba(60, 64, 67, 0.3), 0px 1px 3px 1px rgba(60, 64, 67, 0.15);\n",
              "      fill: #174EA6;\n",
              "    }\n",
              "\n",
              "    .colab-df-buttons div {\n",
              "      margin-bottom: 4px;\n",
              "    }\n",
              "\n",
              "    [theme=dark] .colab-df-convert {\n",
              "      background-color: #3B4455;\n",
              "      fill: #D2E3FC;\n",
              "    }\n",
              "\n",
              "    [theme=dark] .colab-df-convert:hover {\n",
              "      background-color: #434B5C;\n",
              "      box-shadow: 0px 1px 3px 1px rgba(0, 0, 0, 0.15);\n",
              "      filter: drop-shadow(0px 1px 2px rgba(0, 0, 0, 0.3));\n",
              "      fill: #FFFFFF;\n",
              "    }\n",
              "  </style>\n",
              "\n",
              "    <script>\n",
              "      const buttonEl =\n",
              "        document.querySelector('#df-9402f1cc-35c2-4c90-bdd6-2b2236abfa16 button.colab-df-convert');\n",
              "      buttonEl.style.display =\n",
              "        google.colab.kernel.accessAllowed ? 'block' : 'none';\n",
              "\n",
              "      async function convertToInteractive(key) {\n",
              "        const element = document.querySelector('#df-9402f1cc-35c2-4c90-bdd6-2b2236abfa16');\n",
              "        const dataTable =\n",
              "          await google.colab.kernel.invokeFunction('convertToInteractive',\n",
              "                                                    [key], {});\n",
              "        if (!dataTable) return;\n",
              "\n",
              "        const docLinkHtml = 'Like what you see? Visit the ' +\n",
              "          '<a target=\"_blank\" href=https://colab.research.google.com/notebooks/data_table.ipynb>data table notebook</a>'\n",
              "          + ' to learn more about interactive tables.';\n",
              "        element.innerHTML = '';\n",
              "        dataTable['output_type'] = 'display_data';\n",
              "        await google.colab.output.renderOutput(dataTable, element);\n",
              "        const docLink = document.createElement('div');\n",
              "        docLink.innerHTML = docLinkHtml;\n",
              "        element.appendChild(docLink);\n",
              "      }\n",
              "    </script>\n",
              "  </div>\n",
              "\n",
              "\n",
              "<div id=\"df-5c7382b1-6906-420d-8142-3f637f1ce8c5\">\n",
              "  <button class=\"colab-df-quickchart\" onclick=\"quickchart('df-5c7382b1-6906-420d-8142-3f637f1ce8c5')\"\n",
              "            title=\"Suggest charts.\"\n",
              "            style=\"display:none;\">\n",
              "\n",
              "<svg xmlns=\"http://www.w3.org/2000/svg\" height=\"24px\"viewBox=\"0 0 24 24\"\n",
              "     width=\"24px\">\n",
              "    <g>\n",
              "        <path d=\"M19 3H5c-1.1 0-2 .9-2 2v14c0 1.1.9 2 2 2h14c1.1 0 2-.9 2-2V5c0-1.1-.9-2-2-2zM9 17H7v-7h2v7zm4 0h-2V7h2v10zm4 0h-2v-4h2v4z\"/>\n",
              "    </g>\n",
              "</svg>\n",
              "  </button>\n",
              "\n",
              "<style>\n",
              "  .colab-df-quickchart {\n",
              "      --bg-color: #E8F0FE;\n",
              "      --fill-color: #1967D2;\n",
              "      --hover-bg-color: #E2EBFA;\n",
              "      --hover-fill-color: #174EA6;\n",
              "      --disabled-fill-color: #AAA;\n",
              "      --disabled-bg-color: #DDD;\n",
              "  }\n",
              "\n",
              "  [theme=dark] .colab-df-quickchart {\n",
              "      --bg-color: #3B4455;\n",
              "      --fill-color: #D2E3FC;\n",
              "      --hover-bg-color: #434B5C;\n",
              "      --hover-fill-color: #FFFFFF;\n",
              "      --disabled-bg-color: #3B4455;\n",
              "      --disabled-fill-color: #666;\n",
              "  }\n",
              "\n",
              "  .colab-df-quickchart {\n",
              "    background-color: var(--bg-color);\n",
              "    border: none;\n",
              "    border-radius: 50%;\n",
              "    cursor: pointer;\n",
              "    display: none;\n",
              "    fill: var(--fill-color);\n",
              "    height: 32px;\n",
              "    padding: 0;\n",
              "    width: 32px;\n",
              "  }\n",
              "\n",
              "  .colab-df-quickchart:hover {\n",
              "    background-color: var(--hover-bg-color);\n",
              "    box-shadow: 0 1px 2px rgba(60, 64, 67, 0.3), 0 1px 3px 1px rgba(60, 64, 67, 0.15);\n",
              "    fill: var(--button-hover-fill-color);\n",
              "  }\n",
              "\n",
              "  .colab-df-quickchart-complete:disabled,\n",
              "  .colab-df-quickchart-complete:disabled:hover {\n",
              "    background-color: var(--disabled-bg-color);\n",
              "    fill: var(--disabled-fill-color);\n",
              "    box-shadow: none;\n",
              "  }\n",
              "\n",
              "  .colab-df-spinner {\n",
              "    border: 2px solid var(--fill-color);\n",
              "    border-color: transparent;\n",
              "    border-bottom-color: var(--fill-color);\n",
              "    animation:\n",
              "      spin 1s steps(1) infinite;\n",
              "  }\n",
              "\n",
              "  @keyframes spin {\n",
              "    0% {\n",
              "      border-color: transparent;\n",
              "      border-bottom-color: var(--fill-color);\n",
              "      border-left-color: var(--fill-color);\n",
              "    }\n",
              "    20% {\n",
              "      border-color: transparent;\n",
              "      border-left-color: var(--fill-color);\n",
              "      border-top-color: var(--fill-color);\n",
              "    }\n",
              "    30% {\n",
              "      border-color: transparent;\n",
              "      border-left-color: var(--fill-color);\n",
              "      border-top-color: var(--fill-color);\n",
              "      border-right-color: var(--fill-color);\n",
              "    }\n",
              "    40% {\n",
              "      border-color: transparent;\n",
              "      border-right-color: var(--fill-color);\n",
              "      border-top-color: var(--fill-color);\n",
              "    }\n",
              "    60% {\n",
              "      border-color: transparent;\n",
              "      border-right-color: var(--fill-color);\n",
              "    }\n",
              "    80% {\n",
              "      border-color: transparent;\n",
              "      border-right-color: var(--fill-color);\n",
              "      border-bottom-color: var(--fill-color);\n",
              "    }\n",
              "    90% {\n",
              "      border-color: transparent;\n",
              "      border-bottom-color: var(--fill-color);\n",
              "    }\n",
              "  }\n",
              "</style>\n",
              "\n",
              "  <script>\n",
              "    async function quickchart(key) {\n",
              "      const quickchartButtonEl =\n",
              "        document.querySelector('#' + key + ' button');\n",
              "      quickchartButtonEl.disabled = true;  // To prevent multiple clicks.\n",
              "      quickchartButtonEl.classList.add('colab-df-spinner');\n",
              "      try {\n",
              "        const charts = await google.colab.kernel.invokeFunction(\n",
              "            'suggestCharts', [key], {});\n",
              "      } catch (error) {\n",
              "        console.error('Error during call to suggestCharts:', error);\n",
              "      }\n",
              "      quickchartButtonEl.classList.remove('colab-df-spinner');\n",
              "      quickchartButtonEl.classList.add('colab-df-quickchart-complete');\n",
              "    }\n",
              "    (() => {\n",
              "      let quickchartButtonEl =\n",
              "        document.querySelector('#df-5c7382b1-6906-420d-8142-3f637f1ce8c5 button');\n",
              "      quickchartButtonEl.style.display =\n",
              "        google.colab.kernel.accessAllowed ? 'block' : 'none';\n",
              "    })();\n",
              "  </script>\n",
              "</div>\n",
              "    </div>\n",
              "  </div>\n"
            ]
          },
          "metadata": {},
          "execution_count": 19
        }
      ],
      "source": [
        "data = pd.DataFrame(task['data'])\n",
        "data.describe()"
      ]
    },
    {
      "cell_type": "markdown",
      "source": [
        "## Среднее"
      ],
      "metadata": {
        "id": "0fAnRfaYm7-e"
      }
    },
    {
      "cell_type": "code",
      "execution_count": 21,
      "metadata": {
        "id": "y3U23VKk5lal",
        "colab": {
          "base_uri": "https://localhost:8080/"
        },
        "outputId": "2d90eb61-c52f-4ed8-dddf-784ac80b54a6"
      },
      "outputs": [
        {
          "output_type": "stream",
          "name": "stdout",
          "text": [
            "mean = -1.047\n"
          ]
        }
      ],
      "source": [
        "print(f'mean = {data[0].mean():.3f}')"
      ]
    },
    {
      "cell_type": "markdown",
      "source": [
        "## Медиана"
      ],
      "metadata": {
        "id": "gWov4G9anCsg"
      }
    },
    {
      "cell_type": "code",
      "source": [
        "print(f\"median = {data[0].median():.3f}\")"
      ],
      "metadata": {
        "id": "1Bjctcs9nFAQ",
        "colab": {
          "base_uri": "https://localhost:8080/"
        },
        "outputId": "3e549579-84fe-48cd-87fd-75148400695f"
      },
      "execution_count": 22,
      "outputs": [
        {
          "output_type": "stream",
          "name": "stdout",
          "text": [
            "median = 0.000\n"
          ]
        }
      ]
    },
    {
      "cell_type": "markdown",
      "source": [
        "## Дисперсия (несмещенная оценка)"
      ],
      "metadata": {
        "id": "phScuV9znFfK"
      }
    },
    {
      "cell_type": "code",
      "source": [
        "print(f\"unbiased std = {data[0].std(ddof=1):.3f}\")"
      ],
      "metadata": {
        "id": "1TuORikNnJTh",
        "colab": {
          "base_uri": "https://localhost:8080/"
        },
        "outputId": "701f5e8a-2c76-4e72-be9c-57c7fe28e9ab"
      },
      "execution_count": 30,
      "outputs": [
        {
          "output_type": "stream",
          "name": "stdout",
          "text": [
            "unbiased std = 144.791\n"
          ]
        }
      ]
    },
    {
      "cell_type": "markdown",
      "source": [
        "## Мода (максимальная)"
      ],
      "metadata": {
        "id": "TLgppdpgnJv8"
      }
    },
    {
      "cell_type": "code",
      "source": [
        "print(f\"Max mode = {data[0].mode().max():.3f}\")"
      ],
      "metadata": {
        "id": "xCuDpfV8nLoM",
        "colab": {
          "base_uri": "https://localhost:8080/"
        },
        "outputId": "955b0546-7c12-4d0d-96cc-b2c6b842c2f2"
      },
      "execution_count": 47,
      "outputs": [
        {
          "output_type": "stream",
          "name": "stdout",
          "text": [
            "Max mode = 162.000\n"
          ]
        }
      ]
    },
    {
      "cell_type": "markdown",
      "source": [
        "## Число мод"
      ],
      "metadata": {
        "id": "bbXfzbY4nMAh"
      }
    },
    {
      "cell_type": "code",
      "source": [
        "print(f'Number of modes = {data.mode().values.shape[0]}')"
      ],
      "metadata": {
        "id": "KQ8cSyEBnNtC",
        "colab": {
          "base_uri": "https://localhost:8080/"
        },
        "outputId": "a8f553fc-0138-4a02-8658-47d9bcfd59d2"
      },
      "execution_count": 52,
      "outputs": [
        {
          "output_type": "stream",
          "name": "stdout",
          "text": [
            "Number of modes = 3\n"
          ]
        }
      ]
    },
    {
      "cell_type": "markdown",
      "source": [
        "## Порядковая статистика с номером 42"
      ],
      "metadata": {
        "id": "OCSUIo2YnOLG"
      }
    },
    {
      "cell_type": "code",
      "source": [
        "print(f\"42nd order statistics = {np.partition(data[0].to_numpy(), 42)[:42].max():.3f}\")"
      ],
      "metadata": {
        "id": "PVj68V9inQKc",
        "colab": {
          "base_uri": "https://localhost:8080/"
        },
        "outputId": "35ffe04e-6c86-459b-f9e1-2fe430c001fc"
      },
      "execution_count": 54,
      "outputs": [
        {
          "output_type": "stream",
          "name": "stdout",
          "text": [
            "42nd order statistics = -248.000\n"
          ]
        }
      ]
    },
    {
      "cell_type": "markdown",
      "source": [
        "## Медиана для неотрицательных"
      ],
      "metadata": {
        "id": "JJWuGUtEnQa4"
      }
    },
    {
      "cell_type": "code",
      "source": [
        "print(f\"Median for non-negative integers = {data[data[0] >= 0][0].median():.3f}\")"
      ],
      "metadata": {
        "id": "Hv3kQsgFnSHt",
        "colab": {
          "base_uri": "https://localhost:8080/"
        },
        "outputId": "db621de7-298b-44eb-abf6-e2fdf7f71c27"
      },
      "execution_count": 53,
      "outputs": [
        {
          "output_type": "stream",
          "name": "stdout",
          "text": [
            "Median for non-negative integers = 125.000\n"
          ]
        }
      ]
    }
  ]
}